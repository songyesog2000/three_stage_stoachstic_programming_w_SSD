{
 "cells": [
  {
   "cell_type": "code",
   "execution_count": 98,
   "id": "b5c67ff8",
   "metadata": {},
   "outputs": [],
   "source": [
    "import numpy as np\n",
    "import math\n",
    "\n",
    "# a pure numeric format for the problem data\n",
    "# example is from github/odwan\n",
    "# news-vendor problem\n",
    "\n",
    "# agent buy x units\n",
    "coefficient_first_stage = [-1]\n",
    "# price for agent\n",
    "bound_first_stage = [0,1000]\n",
    "# units the agent can buy\n",
    "\n",
    "# agent sell u units\n",
    "coefficient_second_stage = [1.5]\n",
    "bound_second_stage = [0,1000]\n",
    "# it is subject to undeterministic quantaty\n",
    "# u<=d\n",
    "# u<=x\n",
    "\n",
    "# probability distribution for the demand d\n",
    "# (d,probability)\n",
    "scenario_second_stage = [(10,0.1),(14,0.4),(16,0.3),(18,0.2)]\n",
    "\n",
    "# since the optimal x is on the interval (10,18) due to the simplicity\n",
    "# alternatively, blender decomposition can solve problem too\n",
    "# however, fit in all possible x can give a good snapshot of the benchmark\n",
    "\n",
    "benchmarks = [ [ (0.5*min(x,d)-max(x-d,0),prob) for d,prob in scenario_second_stage ] for x in range(10,19)] \n",
    "# for sake convinence:\n",
    "variables = { 'first_stage':['x'],\n",
    "             'second_stage':['u']\n",
    "           }\n",
    "coefficients = {'x':-1,'u':1.5}\n",
    "random_variables = ['d']"
   ]
  },
  {
   "cell_type": "code",
   "execution_count": 176,
   "id": "ef7f2a0f",
   "metadata": {},
   "outputs": [
    {
     "data": {
      "text/plain": [
       "[(15.0, 0.1), (21.0, 0.4), (21.0, 0.3), (21.0, 0.2)]"
      ]
     },
     "execution_count": 176,
     "metadata": {},
     "output_type": "execute_result"
    }
   ],
   "source": [
    "x = 14\n",
    "def second_stage_rewards(x,scenario_second_stage):\n",
    "    return [ (1.5*min(x,d),prob) for d,prob in scenario_second_stage ] \n",
    "second_stage_rewards(x, scenario_second_stage)"
   ]
  },
  {
   "cell_type": "code",
   "execution_count": 177,
   "id": "556f5dd6",
   "metadata": {},
   "outputs": [
    {
     "data": {
      "text/plain": [
       "[(10, 5.0),\n",
       " (11, 5.35),\n",
       " (12, 5.7),\n",
       " (13, 6.05),\n",
       " (14, 6.4),\n",
       " (15, 6.15),\n",
       " (16, 5.9),\n",
       " (17, 5.2),\n",
       " (18, 4.5)]"
      ]
     },
     "execution_count": 177,
     "metadata": {},
     "output_type": "execute_result"
    }
   ],
   "source": [
    "obj_val = [ (b,sum(x[0]*x[1] for x in benchmarks[b-10])) for b in range(10,19) ]\n",
    "obj_val"
   ]
  },
  {
   "cell_type": "code",
   "execution_count": 48,
   "id": "722c5336",
   "metadata": {},
   "outputs": [
    {
     "data": {
      "text/plain": [
       "[(1.0, 0.1), (7.0, 0.4), (7.0, 0.3), (7.0, 0.2)]"
      ]
     },
     "execution_count": 48,
     "metadata": {},
     "output_type": "execute_result"
    }
   ],
   "source": [
    "# the fifth one (x=14) is the optimal in non-SSD\n",
    "benchmarks[4]"
   ]
  },
  {
   "cell_type": "code",
   "execution_count": 181,
   "id": "32c1e5c4",
   "metadata": {},
   "outputs": [
    {
     "data": {
      "text/plain": [
       "array([0.  , 0.  , 0.  , 0.  , 0.1 , 0.1 , 0.1 , 0.1 , 0.1 , 0.1 , 0.1 ,\n",
       "       0.3 , 0.5 , 0.25, 0.25, 0.25, 0.25])"
      ]
     },
     "execution_count": 181,
     "metadata": {},
     "output_type": "execute_result"
    }
   ],
   "source": [
    "tem = []\n",
    "for b in benchmarks:\n",
    "    tem.extend([v for v,_ in b]) \n",
    "all_v = list(set(tem))\n",
    "all_v.sort()\n",
    "#print(all_v)\n",
    "breakpoints = np.array([ [sum(max(v-v_,0)*p for v_,p in b) for v in all_v] for b in benchmarks])\n",
    "breakpoints[5] - breakpoints[4]\n",
    "# from the comparison, x= 15 dominates x=14 by SSD"
   ]
  },
  {
   "cell_type": "code",
   "execution_count": 193,
   "id": "a4444325",
   "metadata": {},
   "outputs": [
    {
     "name": "stdout",
     "output_type": "stream",
     "text": [
      "{'first_stage': {'r': [-15], 's': [1.0]}, 'second_stage': {'r': [15.0, 21.0, 22.5, 22.5], 's': [0.1, 0.4, 0.3, 0.2]}}\n"
     ]
    }
   ],
   "source": [
    "# from the above exploration results\n",
    "# we can set one benchmark for our ssd problem as x=14\n",
    "x = 15\n",
    "\n",
    "def ssd_benchmark_by_x(x, scenario_second_stage):\n",
    "    r = second_stage_rewards(x, scenario_second_stage)\n",
    "    return {\n",
    "    'first_stage':{'r':[-x], 's':[1.0] },\n",
    "    'second_stage':{'r':[v for v,p in r], 's':[p for v,p in r]}\n",
    "}\n",
    "print(ssd_benchmark_by_x(15,scenario_second_stage))"
   ]
  },
  {
   "cell_type": "code",
   "execution_count": 95,
   "id": "59a81340",
   "metadata": {},
   "outputs": [],
   "source": [
    "# meta parameters\n",
    "max_itr = 100"
   ]
  },
  {
   "cell_type": "code",
   "execution_count": 197,
   "id": "98e812d1",
   "metadata": {},
   "outputs": [
    {
     "name": "stdout",
     "output_type": "stream",
     "text": [
      "Gurobi Optimizer version 9.5.1 build v9.5.1rc2 (linux64)\n",
      "Thread count: 8 physical cores, 16 logical processors, using up to 16 threads\n",
      "Optimize a model with 37 rows, 19 columns and 80 nonzeros\n",
      "Model fingerprint: 0x9ca142b6\n",
      "Coefficient statistics:\n",
      "  Matrix range     [1e-01, 2e+00]\n",
      "  Objective range  [2e-01, 1e+00]\n",
      "  Bounds range     [0e+00, 0e+00]\n",
      "  RHS range        [6e-01, 2e+01]\n",
      "Presolve removed 18 rows and 6 columns\n",
      "Presolve time: 0.01s\n",
      "Presolved: 19 rows, 13 columns, 53 nonzeros\n",
      "\n",
      "Iteration    Objective       Primal Inf.    Dual Inf.      Time\n",
      "       0    1.4404800e+01   1.144150e+01   0.000000e+00      0s\n",
      "       8   -6.4928571e+00   0.000000e+00   0.000000e+00      0s\n",
      "\n",
      "Solved in 8 iterations and 0.01 seconds (0.00 work units)\n",
      "Optimal objective -6.492857143e+00\n"
     ]
    },
    {
     "data": {
      "text/plain": [
       "(13.285714285714278,\n",
       " -13.285714285714278,\n",
       " 1.7142857142857224,\n",
       " 6.149999999999999)"
      ]
     },
     "execution_count": 197,
     "metadata": {},
     "output_type": "execute_result"
    }
   ],
   "source": [
    "import gurobipy as gp\n",
    "from gurobipy import GRB\n",
    "from collections import defaultdict\n",
    "\n",
    "def two_stage_ssd_solver(var, coef, r_v, prob_dist, ssd_benchmark):\n",
    "    itr =0\n",
    "    # first stage\n",
    "    m = gp.Model('first_stage')\n",
    "    x = m.addVar(vtype = GRB.CONTINUOUS, name = 'x')\n",
    "    # z = m.addVar(vtype = GRB.CONTINUOUS, name = 'z')\n",
    "    sigma = m.addVar(vtype = GRB.CONTINUOUS, name = 'sigma')\n",
    "    obj = m.addVar(vtype = GRB.CONTINUOUS, name = 'obj_v')\n",
    "    # constraint associated with z\n",
    "    # m.addConstr(z+x<=0)\n",
    "    \n",
    "    m.addConstr(sigma == -x -ssd_benchmark['first_stage']['r'][0] )\n",
    "    \n",
    "    \n",
    "    # constriants associated with SSD\n",
    "    # need to calculate the short-fall w \n",
    "    y = defaultdict(float)\n",
    "    for r,prob in zip(ssd_benchmark['second_stage']['r'], ssd_benchmark['second_stage']['s']):\n",
    "        y[r]+=prob\n",
    "    w = {}\n",
    "    for y_j in y.keys():\n",
    "        w[y_j] = sum( max(y_j - y_i,0)*prob for y_i,prob in y.items())\n",
    "    \n",
    "    \n",
    "    x_d_aug = {}\n",
    "\n",
    "    for d,p in prob_dist:\n",
    "        tem_x_d_aug = m.addVar(vtype = GRB.CONTINUOUS, name = f\"min(x,{d})\")\n",
    "        # an auxiliary variable for min(x,d)\n",
    "        x_d_aug[d] = tem_x_d_aug\n",
    "        # store in the dict \n",
    "\n",
    "        m.addConstr(tem_x_d_aug<=x)\n",
    "        m.addConstr(tem_x_d_aug<=d)\n",
    "        \n",
    "    aug_f = defaultdict(dict)\n",
    "    for y_j,w_j in w.items():\n",
    "        tot = 0\n",
    "        for d,p in prob_dist:\n",
    "            tem_aug_f = m.addVar(vtype = GRB.CONTINUOUS, name = f'({y_j}-sigma - Q^{d}_2(x))_+')\n",
    "            # an auxiliary variable for (y_j-sigma - Q^d_i_2(x))_+\n",
    "            # f_X(d_i,x) in this case is 1.5*min(x,d_i) which is 1.5 x_d_aug[d_i]\n",
    "            aug_f[d][y_j] = tem_aug_f\n",
    "            m.addConstr( y_j-sigma - 1.5*x_d_aug[d]<=tem_aug_f)\n",
    "            m.addConstr(tem_aug_f>= 0)\n",
    "            tot+=p*tem_aug_f\n",
    "        m.addConstr( tot <= w_j)\n",
    "    \n",
    "    #   problem.setObjective(z+sum( 1.5*x_d_aug[d]*p+ x_d_aug[d] -x_aug[d] for d,p in prob_dist ), GRB.MAXIMIZE)\n",
    "    m.addConstr(obj == -x+sum( 1.5*x_d_aug[d]*p for d,p in prob_dist))\n",
    "    m.setObjective(-x+sum( 1.5*x_d_aug[d]*p-sum(tem for _,tem in aug_f[d].items() ) for d,p in prob_dist) , GRB.MAXIMIZE)\n",
    "    m.optimize()\n",
    "    # print('DIS')\n",
    "    # print (m.display())\n",
    "    x_ = x.X\n",
    "    z_ = -x.X\n",
    "    sigma_ = sigma.X\n",
    "    obj_ = obj.X\n",
    "    \n",
    "    \n",
    "#     while(itr<max_itr):\n",
    "        \n",
    "        \n",
    "#         rewards = [ 1.5*min(x_,d) for d,_ in prob_dist]\n",
    "#         new_events = []\n",
    "#         for j,(y_j, w_j) in enumerate(zip(self.y_3,self.w)): # this for can be parallelism\n",
    "#             if self.p*((y_j - s)*np.ones(self.n) - rewards) <= w_j:\n",
    "#                 continue\n",
    "#             event = [ i for i in range(L) if y_j -s > rewards[i]] \n",
    "#             new_events.append(event)\n",
    "#         if not new_events:\n",
    "#             break\n",
    "#         else:\n",
    "#             # add new event cuts as constr\n",
    "            \n",
    "#             problem.optimize()\n",
    "#             # update x,z,sigma\n",
    "#             x_ = x.X\n",
    "#             z_ = z.X\n",
    "#             sigma_ = sigma.X\n",
    "#             itr+=1\n",
    "    return x_,z_,sigma_,obj_\n",
    "two_stage_ssd_solver(variables, coefficients, random_variables, scenario_second_stage, ssd_benchmark)"
   ]
  },
  {
   "cell_type": "code",
   "execution_count": 198,
   "id": "e78714ac",
   "metadata": {},
   "outputs": [
    {
     "name": "stdout",
     "output_type": "stream",
     "text": [
      "Gurobi Optimizer version 9.5.1 build v9.5.1rc2 (linux64)\n",
      "Thread count: 8 physical cores, 16 logical processors, using up to 16 threads\n",
      "Optimize a model with 37 rows, 19 columns and 80 nonzeros\n",
      "Model fingerprint: 0x42c0c915\n",
      "Coefficient statistics:\n",
      "  Matrix range     [1e-01, 2e+00]\n",
      "  Objective range  [2e-01, 1e+00]\n",
      "  Bounds range     [0e+00, 0e+00]\n",
      "  RHS range        [6e-01, 2e+01]\n",
      "Presolve removed 18 rows and 6 columns\n",
      "Presolve time: 0.01s\n",
      "Presolved: 19 rows, 13 columns, 53 nonzeros\n",
      "\n",
      "Iteration    Objective       Primal Inf.    Dual Inf.      Time\n",
      "       0    1.4705100e+01   6.627125e+00   0.000000e+00      0s\n",
      "       8   -7.3857143e+00   0.000000e+00   0.000000e+00      0s\n",
      "\n",
      "Solved in 8 iterations and 0.01 seconds (0.00 work units)\n",
      "Optimal objective -7.385714286e+00\n"
     ]
    },
    {
     "data": {
      "text/plain": [
       "(12.571428571428575,\n",
       " -12.571428571428575,\n",
       " 3.4285714285714235,\n",
       " 5.900000000000003)"
      ]
     },
     "execution_count": 198,
     "metadata": {},
     "output_type": "execute_result"
    }
   ],
   "source": [
    "two_stage_ssd_solver(variables, coefficients, random_variables, scenario_second_stage, ssd_benchmark_by_x(16,scenario_second_stage))"
   ]
  }
 ],
 "metadata": {
  "kernelspec": {
   "display_name": "Python 3 (ipykernel)",
   "language": "python",
   "name": "python3"
  },
  "language_info": {
   "codemirror_mode": {
    "name": "ipython",
    "version": 3
   },
   "file_extension": ".py",
   "mimetype": "text/x-python",
   "name": "python",
   "nbconvert_exporter": "python",
   "pygments_lexer": "ipython3",
   "version": "3.8.13"
  }
 },
 "nbformat": 4,
 "nbformat_minor": 5
}
