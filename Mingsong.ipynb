{
 "cells": [
  {
   "cell_type": "code",
   "execution_count": 1,
   "id": "9e3a095f",
   "metadata": {},
   "outputs": [],
   "source": [
    "import gurobipy as gp\n",
    "from gurobipy import GRB\n",
    "import numpy as np\n",
    "\n",
    "from collections import defaultdict\n",
    "import math as math"
   ]
  },
  {
   "cell_type": "code",
   "execution_count": 38,
   "id": "0287cbc6",
   "metadata": {},
   "outputs": [],
   "source": [
    "meta_parameter = {\n",
    "    'number of agents': 10,\n",
    "    'number of resources': 5,\n",
    "    'number of S scenario': 5,\n",
    "    'number of T scenario': 10,\n",
    "}"
   ]
  },
  {
   "cell_type": "code",
   "execution_count": 39,
   "id": "3314fcf5",
   "metadata": {},
   "outputs": [],
   "source": [
    "import random\n",
    "def generate_scenario(meta_parameter):\n",
    "    #S scenarios in second stage, T in extended stage\n",
    "    n = meta_parameter['number of agents']\n",
    "\n",
    "    S = meta_parameter['number of S scenario']\n",
    "    T = meta_parameter['number of T scenario']\n",
    "    scenario = {}\n",
    "\n",
    "    pT=np.random.rand(S,T)\n",
    "    pT=pT/sum(sum(pT))\n",
    "    pT=pT.tolist()\n",
    "    \n",
    "    for j in range(S):\n",
    "        scenario[j] = {}\n",
    "        xS=[ random.uniform(0,0.6) for i in range(n)]\n",
    "        scenario[j]['xi_1'] =  xS\n",
    "        scenario[j]['prob'] = sum(pT[j])\n",
    "        \n",
    "        for k in range(T):\n",
    "            xT=[ random.uniform(0,1) for i in range(n)]\n",
    "            scenario[j][k]={'xi_2':xT,'prob':pT[j][k],'cond_prob':pT[j][k]/sum(pT[j])}\n",
    "    return scenario \n",
    "\n",
    "\n",
    "scenario = generate_scenario(meta_parameter)\n"
   ]
  },
  {
   "cell_type": "code",
   "execution_count": 43,
   "id": "791d531c",
   "metadata": {},
   "outputs": [],
   "source": [
    "import pickle\n",
    "\n",
    "with open('data', 'wb') as handle:\n",
    "    pickle.dump(meta_parameter, handle)\n",
    "    pickle.dump(scenario, handle)"
   ]
  },
  {
   "cell_type": "code",
   "execution_count": 5,
   "id": "a5f05135",
   "metadata": {},
   "outputs": [
    {
     "name": "stdout",
     "output_type": "stream",
     "text": [
      "dict_keys([0, 1, 2, 3, 4])\n",
      "dict_keys(['xi_1', 'prob', 0, 1, 2, 3, 4, 5, 6, 7, 8, 9])\n",
      "dict_keys(['xi_2', 'prob', 'cond_prob'])\n",
      "[0.19811185973145418, 0.16478844962349634, 0.1853453388864705, 0.25495623842705667, 0.19679811333152236]\n",
      "[0.01079029011451963, 0.013336330249867944, 0.023709809089490174, 0.020275812208000014, 0.018509918225692777, 0.03429533619077431, 0.033258264154168465, 0.005572435132736774, 0.027671299276135024, 0.010692365090069057]\n",
      "[0.05446564445534029, 0.06731717257081776, 0.11967889818221605, 0.1023452721885727, 0.09343165144572091, 0.17311096992003677, 0.16787618974073998, 0.028127721077831264, 0.1396751275448335, 0.05397135287389073]\n"
     ]
    }
   ],
   "source": [
    "print(scenario.keys())\n",
    "print(scenario[0].keys())\n",
    "print(scenario[0][0].keys())\n",
    "print([scenario[i]['prob'] for i in range(5)])\n",
    "print([scenario[0][i]['prob'] for i in range(10)])\n",
    "print([scenario[0][i]['cond_prob'] for i in range(10)])"
   ]
  },
  {
   "cell_type": "code",
   "execution_count": 5,
   "id": "30e81cd1",
   "metadata": {},
   "outputs": [],
   "source": [
    "import pickle\n",
    "with open('data', 'rb') as handle:\n",
    "    meta_parameter = pickle.load(handle)\n",
    "    scenario = pickle.load(handle)"
   ]
  },
  {
   "cell_type": "code",
   "execution_count": 7,
   "id": "4e0d759e",
   "metadata": {},
   "outputs": [
    {
     "data": {
      "image/png": "[encoded data removed]",
      "text/plain": [
       "<Figure size 640x480 with 1 Axes>"
      ]
     },
     "metadata": {},
     "output_type": "display_data"
    }
   ],
   "source": [
    "import numpy as np \n",
    "def evaluation(x, alpha):\n",
    "    if (x<=alpha/2):\n",
    "        return 4*((x/alpha) - (x/alpha)**2)\n",
    "    else:\n",
    "        return 1\n",
    "\n",
    "import matplotlib.pyplot as plt\n",
    "\n",
    "\n",
    "x = np.arange(0,20,0.025)\n",
    "y = np.array([ evaluation(_,20) for _ in x])\n",
    "plt.figure()\n",
    "plt.plot(x, y, color='tab:blue')\n",
    "plt.show()"
   ]
  },
  {
   "cell_type": "markdown",
   "id": "6c9017b6",
   "metadata": {},
   "source": [
    "Solving the problem with stochastic dominant constraints\n",
    "\n",
    "If benchmark is none, then solve the risk-neutral problem"
   ]
  },
  {
   "cell_type": "code",
   "execution_count": 3,
   "id": "7a53f96b",
   "metadata": {},
   "outputs": [],
   "source": [
    "from gurobipy import quicksum as qsum\n",
    "\n",
    "def subproblem(x_s, meta_parameter, scenario_s, bm_s = None):\n",
    "    n = meta_parameter['number of agents']\n",
    "    K = meta_parameter['number of resources']\n",
    "\n",
    "    S = meta_parameter['number of S scenario']\n",
    "    T = meta_parameter['number of T scenario']\n",
    "    \n",
    "    alpha = 2*K\n",
    "    reallo_cost = 0.01\n",
    "    \n",
    "    w_s = sum(evaluation(scenario_s['xi_1'][i]*x_s[i], alpha) for i in range(n))\n",
    "    \n",
    "    scenario_extended = {}\n",
    "\n",
    "    for t in range(T):\n",
    "        scenario_extended[t] = [scenario_s[t]['xi_2'][i]*(1-scenario_s['xi_1'][i])\\\n",
    "             for i in range(n)]\n",
    "        \n",
    "    prob_extended_list = [ scenario_s[j]['cond_prob'] for j in range(T)]\n",
    "\n",
    "    sp = gp.Model(\"subproblem\")\n",
    "    \n",
    "    z = sp.addVars(n,n, vtype=GRB.CONTINUOUS, name=\"z\", lb=list(np.zeros((n,n)))) #reallocate\n",
    "    y = sp.addVars(n,   vtype=GRB.CONTINUOUS, name=\"y\", lb=list(np.zeros(n))) #new resources\n",
    "\n",
    "    \n",
    "    # conditional probability of extended stage, conditioning on S\n",
    "    extended_obj = {}\n",
    "    for t in range(T):\n",
    "        extended_obj[t] = qsum(4*((scenario_extended[t][i]*y[i]/alpha) - \\\n",
    "                                    (scenario_extended[t][i]*y[i]/alpha)**2)  for i in range(n)) \n",
    "    extended_obj_exp = qsum(extended_obj[t]*prob_extended_list[t] for t in range(T))\n",
    "\n",
    "    obj = w_s + extended_obj_exp  - reallo_cost*z.sum()\n",
    "    sp.setObjective( obj, GRB.MAXIMIZE)\n",
    "\n",
    "    reallocate = sp.addConstrs( (y[i] == (1-scenario_s['xi_1'][i])*x_s[i] +\\\n",
    "                                     z.sum('*',i)-z.sum(i,'*') for i in range(n)), \\\n",
    "                                    name = 'reallocate')\n",
    "\n",
    "    sp.setParam('OutputFlag', 0)\n",
    "    sp.setParam('QCPDual', 1)\n",
    "    \n",
    "\n",
    "    max_it = 1e2\n",
    "    it = 0\n",
    "\n",
    " \n",
    "    if bm_s is None:\n",
    "        sp.optimize()\n",
    "        # print(sp.status)\n",
    "        if sp.status == GRB.OPTIMAL:\n",
    "            \n",
    "            feas = 1\n",
    "            \n",
    "            lmbd = [reallocate[i].Pi for i in range(n)]\n",
    "            \n",
    "            cut_subdiff = [lmbd[i]*(1-scenario_s['xi_1'][i]) + 4*(1-2*(scenario_s['xi_1'][i]/alpha)*x_s[i])\\\n",
    "                *(scenario_s['xi_1'][i]/alpha) for i in range(n)]\n",
    "            \n",
    "            obj_val = obj.getValue()\n",
    "            val_t = [extended_obj[t].getValue() for t in range(T)]\n",
    "            print(obj_val, cut_subdiff)\n",
    "            return cut_subdiff, feas, obj_val, val_t\n",
    "        else:\n",
    "            raise Exception('risk neutral subproblem is infeasible')\n",
    "    # if given a benchmark, then add in event cut \n",
    "    else:\n",
    "\n",
    "        value_list_b = [ bm_s['r_s'] + bm_s[t]['r_t'] for t in range(T) ]\n",
    "        # short_fall_b = {}\n",
    "        # for t in range(T):\n",
    "        #     short_fall_b[t] =  sum(bm_s[tt]['cond_prob']*max(value_list_b[t] - value_list_b[tt],0) \\\n",
    "        #                                                 for tt in range(T))\n",
    "        shtf = sp.addVars(T, T, vtype=GRB.CONTINUOUS, name=\"shtf\", lb=list(np.zeros((T,T))))\n",
    "        shtf_def = sp.addConstrs( (shtf[t, tt] >= value_list_b[t] - w_s +\\\n",
    "             reallo_cost*z.sum()- extended_obj[tt] for t in range(T)\\\n",
    "                 for tt in range(T)), name = 'shtf_def')\n",
    "        \n",
    "        #Write order constraint as T ineq constr: E[(eta-X)+]<=E[(eta-Y)+], for eta=Y(\\omega_1), ...\n",
    "        \n",
    "        #expected shortfall of benchmark: E[(eta_t - Y)+]\n",
    "        exp_shtf_bm = [sum(prob_extended_list[tt] * max(0,value_list_b[t]-value_list_b[tt]) for tt in range(T)) for t in range(T)]\n",
    "        \n",
    "        prob_extended_edit = dict( [((t,tt),prob_extended_list[tt]) for tt in range(T) for t in range(T)] )\n",
    "        \n",
    "        ord_constr = sp.addConstrs( (shtf.prod(prob_extended_edit, t, '*') <= exp_shtf_bm[t] for t in range(T)), name = 'ord_constr' )\n",
    "        sp.optimize()\n",
    "        if sp.status == GRB.OPTIMAL:\n",
    "            short_fall = {}\n",
    "            for t in range(T):\n",
    "                short_fall[t] = sum(bm_s[tt]['cond_prob']*max(value_list_b[t]-\\\n",
    "                    w_s-extended_obj[tt].getValue() ,0) for tt in range(T))\n",
    "            # print(sp.status)\n",
    "\n",
    "            lmbd = [reallocate[i].Pi for i in range(n)]\n",
    "            \n",
    "            cut_subdiff = [lmbd[i]*(1-scenario_s['xi_1'][i]) + 4*(1-2*(scenario_s['xi_1'][i]/alpha)*x_s[i])\\\n",
    "                *(scenario_s['xi_1'][i]/alpha) for i in range(n)]\n",
    "            \n",
    "            obj_val = obj.getValue()\n",
    "            val_t = [extended_obj[t].getValue() for t in range(T)]\n",
    "\n",
    "            return cut_subdiff, 1, obj_val, val_t\n",
    "\n",
    "                \n",
    "        elif (sp.status == GRB.INFEASIBLE) or (sp.status == GRB.INF_OR_UNBD):\n",
    "            \n",
    "            sp.remove(reallocate)\n",
    "            \n",
    "            u = sp.addVars(n, vtype=GRB.CONTINUOUS, name=\"u\", lb = -GRB.INFINITY)\n",
    "            u_abs = sp.addVars(n, vtype=GRB.CONTINUOUS, name=\"u_abs\")\n",
    "            \n",
    "            reallocate_again = sp.addConstrs( (u[i] + y[i] == (1-scenario_s['xi_1'][i])*x[i] + z.sum('*',i)-z.sum(i,'*') for i in range(n)),\\\n",
    "                                                name = 'reallocate_again')\n",
    "            \n",
    "            abs_of_u = sp.addConstrs( (u[i] <= u_abs[i] for i in range(n)) , name = 'abs_of_u')\n",
    "            abs_of_u_ = sp.addConstrs( (-u[i] <= u_abs[i] for i in range(n)) , name = 'abs_of_u_')\n",
    "            \n",
    "            obj_feas = qsum(u_abs)\n",
    "            sp.setObjective(obj_feas, GRB.MINIMIZE)\n",
    "            \n",
    "            sp.optimize()\n",
    "            if sp.status != GRB.OPTIMAL:\n",
    "                raise Exception(f'feasible subproblem status code {sp.status}')\n",
    "\n",
    "            cut_val = obj_feas.getValue()\n",
    "            # cut_val = sp.ObjVal\n",
    "            \n",
    "            lmbd = [reallocate_again[i].Pi for i in range(n)]\n",
    "            \n",
    "            \n",
    "            cut_subdiff = [lmbd[i]*(1-scenario_s['xi_1'][i]) +\\\n",
    "                    4*(1-2*(scenario_s['xi_1'][i]/alpha)*x[i])*(scenario_s['xi_1'][i]/alpha) for i in range(n)]\n",
    "            \n",
    "            \n",
    "            return cut_subdiff, 0, cut_val, [-float('inf') for i in range(T)]\n",
    "        raise Exception(f'subproblem stopped due to statuse code {sp.status})')"
   ]
  },
  {
   "cell_type": "code",
   "execution_count": 10,
   "id": "8c1f8141",
   "metadata": {},
   "outputs": [
    {
     "name": "stdout",
     "output_type": "stream",
     "text": [
      "1.4873887113285087 [0.31517090166059347, 0.5213291061728912, 0.46317252662691377]\n",
      "([0.31517090166059347, 0.5213291061728912, 0.46317252662691377], 1, 1.4873887113285087, [0.8125192671837397, 0.9761227359129018, 0.5894806837302715])\n"
     ]
    }
   ],
   "source": [
    "\n",
    "x_start = [ 1 for i in range(meta_parameter['number of agents'])]\n",
    "print(subproblem( x_start, meta_parameter, scenario[0]))"
   ]
  },
  {
   "cell_type": "code",
   "execution_count": 9,
   "id": "7b393b5a",
   "metadata": {},
   "outputs": [
    {
     "data": {
      "text/plain": [
       "{'xi_1': [0.052635313546920456, 0.5098652675622277, 0.33248895824861213],\n",
       " 'prob': 0.25599837531142505,\n",
       " 0: {'xi_2': [0.6604385017619175, 0.6039500460941947, 0.38346317550284725],\n",
       "  'prob': 0.09906173712642562,\n",
       "  'cond_prob': 0.3869623664834429},\n",
       " 1: {'xi_2': [0.9980540737628484, 0.5539333587372145, 0.3108404365129557],\n",
       "  'prob': 0.011185969396687397,\n",
       "  'cond_prob': 0.04369547026647936},\n",
       " 2: {'xi_2': [0.16514006523761038, 0.8908134569146171, 0.12463044013450042],\n",
       "  'prob': 0.14575066878831205,\n",
       "  'cond_prob': 0.5693421632500778}}"
      ]
     },
     "execution_count": 9,
     "metadata": {},
     "output_type": "execute_result"
    }
   ],
   "source": [
    "scenario[0]"
   ]
  },
  {
   "cell_type": "code",
   "execution_count": 77,
   "id": "ace02d9d",
   "metadata": {},
   "outputs": [],
   "source": [
    "def masterproblem(x_start, meta_parameter, scenario, bm = None, max_it = 1e2):\n",
    "    n = meta_parameter['number of agents']\n",
    "    K = meta_parameter['number of resources']\n",
    "\n",
    "    S = meta_parameter['number of S scenario']\n",
    "    T = meta_parameter['number of T scenario']\n",
    "    \n",
    "    # if bm is none we consider risk-neutral solution\n",
    "    if bm is None:\n",
    "        bm = [None for i in range(S)]\n",
    "    \n",
    "    # nvm\n",
    "    # assert S == len(scenario)-1, f\" S not equal:\"\n",
    "    # assert T == len(scenario[0][0]), f\"T not equal\"\n",
    "\n",
    "    prob_s = [ scenario[s]['prob'] for s in range(S)]\n",
    "    \n",
    "    prob_s_dict = dict([(s, prob_s[s]) for s in range(S)])\n",
    "    \n",
    "    mp=gp.Model(\"masterproblem\")\n",
    "    \n",
    "    x = mp.addVars(n, vtype=GRB.CONTINUOUS, name=\"x\", lb=list(np.zeros(n)))\n",
    "    v = mp.addVars(S, vtype=GRB.CONTINUOUS, name=\"v\", lb=-GRB.INFINITY, ub=[100 for i in range(S)])\n",
    "    \n",
    "    v_exp = v.prod(prob_s_dict)\n",
    "    \n",
    "    mp.setObjective(v_exp, GRB.MAXIMIZE)\n",
    "    \n",
    "    mp.addConstr( x.sum() <= K )\n",
    "    \n",
    "    mp.setParam('OutputFlag', 0)\n",
    "    \n",
    "    it = 0 #iteration\n",
    "    \n",
    "    x_it = x_start #n*1 vector\n",
    "    cuts = {}\n",
    "    i_cut = 0\n",
    "    while (it<max_it):\n",
    "        # print('it', it)\n",
    "        optm_sec_stage = [0 for i in range(S)]\n",
    "        \n",
    "        feas_sec_stage = True\n",
    "        \n",
    "        v_t = []\n",
    "        #obj cut & feas cut\n",
    "        for s in range(S):\n",
    "            # print('S',s)\n",
    "            subdiff, feas, val, val_t = subproblem(x_it, meta_parameter, scenario[s], bm_s=bm[s])\n",
    "\n",
    "            if feas==1:\n",
    "                subdiff_dict = dict([(i,subdiff[i]) for i in range(n)])\n",
    "                cuts[i_cut] = mp.addConstr( v[s] <= val + x.prod(subdiff_dict) - sum(subdiff[i]*x_it[i]\\\n",
    "                     for i in range(n)) )\n",
    "                optm_sec_stage[s] = val\n",
    "                # print(\"\\n add a objective cut for scenario\", 'it:', it, 'scenario' ,s, \"\\n\")\n",
    "                \n",
    "                i_cut += 1\n",
    "            elif feas==0:\n",
    "                subdiff_dict = dict([(i,subdiff[i]) for i in range(n)])\n",
    "                mp.addConstr( val + x.prod(subdiff_dict) - sum(subdiff[i]*x_it[i] for i in range(n)) <= 0 )\n",
    "                \n",
    "                feas_sec_stage = False\n",
    "                optm_sec_stage[s] = -float('inf')\n",
    "                print(\"\\n add a feasbility cut for scenario\", 'it:', it, 'scenario' ,s, \"\\n\")\n",
    "            v_t.append(val_t)\n",
    "        \n",
    "        mp.optimize()\n",
    "        # print(mp.display())\n",
    "        if mp.status != GRB.OPTIMAL:\n",
    "            raise Exception(f'master problem status code {mp.status}')\n",
    "        x_it_ = x_it\n",
    "        x_it = [x[i].x for i in range(n)]\n",
    "        \n",
    "        if feas_sec_stage == False:\n",
    "            it = it + 1\n",
    "            continue;\n",
    "        if sum([abs(x_it_[i]-x_it[i]) for i in range(n)])<0.1:\n",
    "            break\n",
    "             \n",
    "        \n",
    "        stop_crit = sum(abs(optm_sec_stage[s]-v[s].X) for s in range(S))\n",
    "        \n",
    "        # print(optm_sec_stage)\n",
    "        # print([v[s].x for s in range(S)])\n",
    "        if ( stop_crit < 1e-5 ):\n",
    "            break;    \n",
    "            \n",
    "        it = it + 1\n",
    "       \n",
    "    if it<max_it:\n",
    "        print(it)\n",
    "        return x_it, [v[s].x for s in range(S)], v_t\n",
    "    else:\n",
    "        raise Exception('pre-mature as max iteration number reached at master problem')"
   ]
  },
  {
   "cell_type": "code",
   "execution_count": 51,
   "id": "8348e993",
   "metadata": {},
   "outputs": [],
   "source": [
    "meta_parameter = {\n",
    "    'number of agents': 3,\n",
    "    'number of resources': 2,\n",
    "    'number of S scenario': 3,\n",
    "    'number of T scenario': 3,\n",
    "}\n",
    "scenario = generate_scenario(meta_parameter)\n",
    "with open('data', 'wb') as handle:\n",
    "    pickle.dump(meta_parameter, handle)\n",
    "    pickle.dump(scenario, handle)\n"
   ]
  },
  {
   "cell_type": "code",
   "execution_count": 53,
   "id": "b56d60a4",
   "metadata": {},
   "outputs": [
    {
     "data": {
      "text/plain": [
       "{0: {'xi_1': [0.052635313546920456, 0.5098652675622277, 0.33248895824861213],\n",
       "  'prob': 0.25599837531142505,\n",
       "  0: {'xi_2': [0.6604385017619175, 0.6039500460941947, 0.38346317550284725],\n",
       "   'prob': 0.09906173712642562,\n",
       "   'cond_prob': 0.3869623664834429},\n",
       "  1: {'xi_2': [0.9980540737628484, 0.5539333587372145, 0.3108404365129557],\n",
       "   'prob': 0.011185969396687397,\n",
       "   'cond_prob': 0.04369547026647936},\n",
       "  2: {'xi_2': [0.16514006523761038, 0.8908134569146171, 0.12463044013450042],\n",
       "   'prob': 0.14575066878831205,\n",
       "   'cond_prob': 0.5693421632500778}},\n",
       " 1: {'xi_1': [0.03210459151203011, 0.5893292714867927, 0.5170235193991009],\n",
       "  'prob': 0.47864414899823665,\n",
       "  0: {'xi_2': [0.8529534668573152, 0.47900476433382455, 0.8149691542186155],\n",
       "   'prob': 0.14771756475479425,\n",
       "   'cond_prob': 0.30861667287473404},\n",
       "  1: {'xi_2': [0.04402236025626938, 0.0615265169898187, 0.27885806211402075],\n",
       "   'prob': 0.1615429334655796,\n",
       "   'cond_prob': 0.3375011139354275},\n",
       "  2: {'xi_2': [0.6192810102342031, 0.13225684411734506, 0.2931462139576111],\n",
       "   'prob': 0.16938365077786283,\n",
       "   'cond_prob': 0.35388221318983853}},\n",
       " 2: {'xi_1': [0.3947049161090827, 0.4517576918224484, 0.2503048517267988],\n",
       "  'prob': 0.26535747569033813,\n",
       "  0: {'xi_2': [0.6927398365615842, 0.44938676693592217, 0.1774452462719852],\n",
       "   'prob': 0.14015934594414162,\n",
       "   'cond_prob': 0.528190681568369},\n",
       "  1: {'xi_2': [0.2860750626106202, 0.7950669351502939, 0.6708938543167003],\n",
       "   'prob': 0.00634108638120302,\n",
       "   'cond_prob': 0.02389639245966758},\n",
       "  2: {'xi_2': [0.9053912778782823, 0.791206173074129, 0.565692088239723],\n",
       "   'prob': 0.1188570433649935,\n",
       "   'cond_prob': 0.4479129259719634}}}"
      ]
     },
     "execution_count": 53,
     "metadata": {},
     "output_type": "execute_result"
    }
   ],
   "source": [
    "scenario"
   ]
  },
  {
   "cell_type": "code",
   "execution_count": 75,
   "id": "a2058e16",
   "metadata": {},
   "outputs": [
    {
     "name": "stdout",
     "output_type": "stream",
     "text": [
      "[0.5, 0.5, 0.5]\n",
      "0.7906592731936067 [0.35895566557163117, 0.6080103999492656, 0.5203500915906076]\n",
      "0.9010190303506241 [0.34538313544125027, 0.6314263725836233, 0.601818921236176]\n",
      "0.9121347010044697 [0.575205385682559, 0.5940181138935462, 0.49894517316521775]\n",
      "1.1022794900674622 [0.3729425015282552, 0.41071753427435875, 0.5552792241643898]\n",
      "1.1614125849273578 [0.36354590265521186, 0.37854162480851705, 0.6797573463682407]\n",
      "1.1364391717288858 [0.6041522546510896, 0.43189589834899056, 0.5058891168462467]\n",
      "1.1545679270836093 [0.3624626484701709, 0.5001691193721315, 0.5058568910276828]\n",
      "1.294573233920913 [0.355356714415966, 0.4952694872689145, 0.5809792135285292]\n",
      "1.1526792967136428 [0.6003490566157316, 0.4990843110739247, 0.4758269762596269]\n",
      "1.132672463890392 [0.35877542879217744, 0.5653167142327324, 0.4747436997487506]\n",
      "1.29777860716209 [0.3492534020339669, 0.5822654150436273, 0.508982392299488]\n",
      "1.1227207633440464 [0.5978639337017209, 0.5494754883992087, 0.4565882933038701]\n",
      "1.1498276153910352 [0.3606190300126629, 0.5327429245734492, 0.490300285409856]\n",
      "1.306428641465338 [0.3523050582368324, 0.5387674583085621, 0.5449807966736202]\n",
      "1.14219014100896 [0.5991064931124839, 0.5242799020890948, 0.4662076309523953]\n",
      "1.1537496252603732 [0.36154083573033874, 0.5164560292362758, 0.49807858321550924]\n",
      "1.3030641224693058 [0.3538308851335451, 0.5170184804318986, 0.5629799980293095]\n",
      "1.1485572456422564 [0.5997277748037023, 0.5116821113372598, 0.4710173020528341]\n",
      "1.1521765840194813 [0.3610799311695667, 0.524599478070281, 0.4941894328282421]\n",
      "1.3053871762842602 [0.3530679714949427, 0.527892969991239, 0.553980397166063]\n",
      "1.1456543250672686 [0.5994171336851035, 0.5179810069518316, 0.46861246601348616]\n",
      "1.1530600962664652 [0.3613103824587175, 0.520527750936028, 0.4961340086747901]\n",
      "1.3043858477902253 [0.3534494286005133, 0.5224557210184136, 0.5584802008135963]\n",
      "1.147175944469724 [0.5995724544701818, 0.5148315568285625, 0.4698148850863304]\n",
      "1.153429108582056 [0.36142560854567124, 0.5184918897182519, 0.4971062957971635]\n",
      "1.3037650346374587 [0.3536401569088478, 0.5197370998549791, 0.5607301001389698]\n",
      "1.1478841347234952 [0.5996501147263702, 0.5132568337034157, 0.47041609382163146]\n",
      "1.1532506639041682 [0.3613679952752457, 0.5195098228684645, 0.4966201509755509]\n",
      "1.3040854543916411 [0.3535447925192078, 0.5210964137988582, 0.5596051477051425]\n",
      "1.1475344235934404 [0.5996112844945305, 0.5140441972020123, 0.47011548870228115]\n",
      "1.1531568951064914 [0.3613391887134177, 0.5200187893375103, 0.49637707865345115]\n",
      "1.3042381548987017 [0.3534971103322213, 0.5217760706550348, 0.5590426715732735]\n",
      "1.1473562793881924 [0.5995918693868485, 0.5144378788921194, 0.46996518617327954]\n",
      "1.1532041579193963 [0.3613535918491051, 0.5197643085936356, 0.49649861362266645]\n",
      "1.3041624311706292 [0.3535209511925177, 0.5214362455513327, 0.559323906888133]\n",
      "1.1474456246754248 [0.5996015768453163, 0.514241039972023, 0.47004033670218814]\n",
      "11\n",
      "[0.0, 1.1526385085802437, 0.8473614914197564]\n",
      "[1.1532045368005552, 1.3041630569490028, 1.1474458987245013]\n"
     ]
    }
   ],
   "source": [
    "def generate_x_start(meta_parameter):\n",
    "    n = meta_parameter['number of agents']\n",
    "    K = meta_parameter['number of resources']\n",
    "\n",
    "    S = meta_parameter['number of S scenario']\n",
    "    T = meta_parameter['number of T scenario']\n",
    "    val = float(K-1)/float(n)\n",
    "    return [ 0.5 for i in range(n)]\n",
    "    \n",
    "x_start = generate_x_start(meta_parameter)\n",
    "print(x_start)\n",
    "x, val_s, val_t = masterproblem(x_start, meta_parameter, scenario)\n",
    "print(x)\n",
    "print(val_s)"
   ]
  },
  {
   "cell_type": "code",
   "execution_count": 34,
   "id": "6be04a90",
   "metadata": {},
   "outputs": [],
   "source": [
    "def generate_bm(meta_parameter,scenario, val_s, val_t):\n",
    "    n = meta_parameter['number of agents']\n",
    "    K = meta_parameter['number of resources']\n",
    "\n",
    "    S = meta_parameter['number of S scenario']\n",
    "    T = meta_parameter['number of T scenario']\n",
    "    bm = {}\n",
    "    for s in range(S):\n",
    "        bm[s] = {}\n",
    "        bm[s]['r_s'] = val_s[s]\n",
    "        for t in range(T):\n",
    "            bm[s][t] = {}\n",
    "            bm[s][t]['cond_prob'] =  scenario[s][t]['cond_prob']\n",
    "            bm[s][t]['r_t'] = val_t[s][t]\n",
    "    return bm\n",
    "bm = generate_bm(meta_parameter,scenario, val_s, val_t)"
   ]
  },
  {
   "cell_type": "code",
   "execution_count": 35,
   "id": "32cdbfec",
   "metadata": {},
   "outputs": [
    {
     "data": {
      "text/plain": [
       "{0: {'r_s': 1.1993735372157852,\n",
       "  0: {'cond_prob': 0.41509060360333666, 'r_t': 0.877168249261907},\n",
       "  1: {'cond_prob': 0.33418098239813876, 'r_t': 0.4098103032649095},\n",
       "  2: {'cond_prob': 0.2507284139985246, 'r_t': 0.8775729861165739}},\n",
       " 1: {'r_s': 1.174206518034151,\n",
       "  0: {'cond_prob': 0.022015590157035813, 'r_t': 0.27627135476222975},\n",
       "  1: {'cond_prob': 0.48206598735458306, 'r_t': 0.6301980761383732},\n",
       "  2: {'cond_prob': 0.495918422488381, 'r_t': 0.8861197988045217}},\n",
       " 2: {'r_s': 1.141801052737846,\n",
       "  0: {'cond_prob': 0.8083895258178214, 'r_t': 0.31574132866023796},\n",
       "  1: {'cond_prob': 0.04167636526715933, 'r_t': 0.4555375478526516},\n",
       "  2: {'cond_prob': 0.14993410891501946, 'r_t': 0.4402967643755436}}}"
      ]
     },
     "execution_count": 35,
     "metadata": {},
     "output_type": "execute_result"
    }
   ],
   "source": [
    "bm"
   ]
  },
  {
   "cell_type": "code",
   "execution_count": 80,
   "id": "5e3f9547",
   "metadata": {},
   "outputs": [
    {
     "name": "stdout",
     "output_type": "stream",
     "text": [
      "[0.5, 0.5, 0.5]\n",
      "\n",
      " add a feasbility cut for scenario it: 0 scenario 0 \n",
      "\n",
      "\n",
      " add a feasbility cut for scenario it: 0 scenario 1 \n",
      "\n"
     ]
    },
    {
     "ename": "Exception",
     "evalue": "subproblem stopped due to statuse code 12)",
     "output_type": "error",
     "traceback": [
      "\u001b[0;31m---------------------------------------------------------------------------\u001b[0m",
      "\u001b[0;31mException\u001b[0m                                 Traceback (most recent call last)",
      "\u001b[1;32m/home/samye/SSD multi-cut/Untitled copy_use linear evaluation.ipynb Cell 16\u001b[0m in \u001b[0;36m<cell line: 2>\u001b[0;34m()\u001b[0m\n\u001b[1;32m      <a href='vscode-notebook-cell://wsl%2Bubuntu/home/samye/SSD%20multi-cut/Untitled%20copy_use%20linear%20evaluation.ipynb#X16sdnNjb2RlLXJlbW90ZQ%3D%3D?line=0'>1</a>\u001b[0m \u001b[39mprint\u001b[39m(x_start)\n\u001b[0;32m----> <a href='vscode-notebook-cell://wsl%2Bubuntu/home/samye/SSD%20multi-cut/Untitled%20copy_use%20linear%20evaluation.ipynb#X16sdnNjb2RlLXJlbW90ZQ%3D%3D?line=1'>2</a>\u001b[0m x, val_s, val_t \u001b[39m=\u001b[39m masterproblem(x_start, meta_parameter, scenario,bm)\n\u001b[1;32m      <a href='vscode-notebook-cell://wsl%2Bubuntu/home/samye/SSD%20multi-cut/Untitled%20copy_use%20linear%20evaluation.ipynb#X16sdnNjb2RlLXJlbW90ZQ%3D%3D?line=2'>3</a>\u001b[0m \u001b[39mprint\u001b[39m(x)\n\u001b[1;32m      <a href='vscode-notebook-cell://wsl%2Bubuntu/home/samye/SSD%20multi-cut/Untitled%20copy_use%20linear%20evaluation.ipynb#X16sdnNjb2RlLXJlbW90ZQ%3D%3D?line=3'>4</a>\u001b[0m \u001b[39mprint\u001b[39m(val_s)\n",
      "\u001b[1;32m/home/samye/SSD multi-cut/Untitled copy_use linear evaluation.ipynb Cell 16\u001b[0m in \u001b[0;36mmasterproblem\u001b[0;34m(x_start, meta_parameter, scenario, bm, max_it)\u001b[0m\n\u001b[1;32m     <a href='vscode-notebook-cell://wsl%2Bubuntu/home/samye/SSD%20multi-cut/Untitled%20copy_use%20linear%20evaluation.ipynb#X16sdnNjb2RlLXJlbW90ZQ%3D%3D?line=44'>45</a>\u001b[0m \u001b[39m#obj cut & feas cut\u001b[39;00m\n\u001b[1;32m     <a href='vscode-notebook-cell://wsl%2Bubuntu/home/samye/SSD%20multi-cut/Untitled%20copy_use%20linear%20evaluation.ipynb#X16sdnNjb2RlLXJlbW90ZQ%3D%3D?line=45'>46</a>\u001b[0m \u001b[39mfor\u001b[39;00m s \u001b[39min\u001b[39;00m \u001b[39mrange\u001b[39m(S):\n\u001b[1;32m     <a href='vscode-notebook-cell://wsl%2Bubuntu/home/samye/SSD%20multi-cut/Untitled%20copy_use%20linear%20evaluation.ipynb#X16sdnNjb2RlLXJlbW90ZQ%3D%3D?line=46'>47</a>\u001b[0m     \u001b[39m# print('S',s)\u001b[39;00m\n\u001b[0;32m---> <a href='vscode-notebook-cell://wsl%2Bubuntu/home/samye/SSD%20multi-cut/Untitled%20copy_use%20linear%20evaluation.ipynb#X16sdnNjb2RlLXJlbW90ZQ%3D%3D?line=47'>48</a>\u001b[0m     subdiff, feas, val, val_t \u001b[39m=\u001b[39m subproblem(x_it, meta_parameter, scenario[s], bm_s\u001b[39m=\u001b[39;49mbm[s])\n\u001b[1;32m     <a href='vscode-notebook-cell://wsl%2Bubuntu/home/samye/SSD%20multi-cut/Untitled%20copy_use%20linear%20evaluation.ipynb#X16sdnNjb2RlLXJlbW90ZQ%3D%3D?line=49'>50</a>\u001b[0m     \u001b[39mif\u001b[39;00m feas\u001b[39m==\u001b[39m\u001b[39m1\u001b[39m:\n\u001b[1;32m     <a href='vscode-notebook-cell://wsl%2Bubuntu/home/samye/SSD%20multi-cut/Untitled%20copy_use%20linear%20evaluation.ipynb#X16sdnNjb2RlLXJlbW90ZQ%3D%3D?line=50'>51</a>\u001b[0m         subdiff_dict \u001b[39m=\u001b[39m \u001b[39mdict\u001b[39m([(i,subdiff[i]) \u001b[39mfor\u001b[39;00m i \u001b[39min\u001b[39;00m \u001b[39mrange\u001b[39m(n)])\n",
      "\u001b[1;32m/home/samye/SSD multi-cut/Untitled copy_use linear evaluation.ipynb Cell 16\u001b[0m in \u001b[0;36msubproblem\u001b[0;34m(x_s, meta_parameter, scenario_s, bm_s)\u001b[0m\n\u001b[1;32m    <a href='vscode-notebook-cell://wsl%2Bubuntu/home/samye/SSD%20multi-cut/Untitled%20copy_use%20linear%20evaluation.ipynb#X16sdnNjb2RlLXJlbW90ZQ%3D%3D?line=134'>135</a>\u001b[0m     cut_subdiff \u001b[39m=\u001b[39m [lmbd[i]\u001b[39m*\u001b[39m(\u001b[39m1\u001b[39m\u001b[39m-\u001b[39mscenario_s[\u001b[39m'\u001b[39m\u001b[39mxi_1\u001b[39m\u001b[39m'\u001b[39m][i]) \u001b[39m+\u001b[39m\\\n\u001b[1;32m    <a href='vscode-notebook-cell://wsl%2Bubuntu/home/samye/SSD%20multi-cut/Untitled%20copy_use%20linear%20evaluation.ipynb#X16sdnNjb2RlLXJlbW90ZQ%3D%3D?line=135'>136</a>\u001b[0m             \u001b[39m4\u001b[39m\u001b[39m*\u001b[39m(\u001b[39m1\u001b[39m\u001b[39m-\u001b[39m\u001b[39m2\u001b[39m\u001b[39m*\u001b[39m(scenario_s[\u001b[39m'\u001b[39m\u001b[39mxi_1\u001b[39m\u001b[39m'\u001b[39m][i]\u001b[39m/\u001b[39malpha)\u001b[39m*\u001b[39mx[i])\u001b[39m*\u001b[39m(scenario_s[\u001b[39m'\u001b[39m\u001b[39mxi_1\u001b[39m\u001b[39m'\u001b[39m][i]\u001b[39m/\u001b[39malpha) \u001b[39mfor\u001b[39;00m i \u001b[39min\u001b[39;00m \u001b[39mrange\u001b[39m(n)]\n\u001b[1;32m    <a href='vscode-notebook-cell://wsl%2Bubuntu/home/samye/SSD%20multi-cut/Untitled%20copy_use%20linear%20evaluation.ipynb#X16sdnNjb2RlLXJlbW90ZQ%3D%3D?line=138'>139</a>\u001b[0m     \u001b[39mreturn\u001b[39;00m cut_subdiff, \u001b[39m0\u001b[39m, cut_val, [\u001b[39m-\u001b[39m\u001b[39mfloat\u001b[39m(\u001b[39m'\u001b[39m\u001b[39minf\u001b[39m\u001b[39m'\u001b[39m) \u001b[39mfor\u001b[39;00m i \u001b[39min\u001b[39;00m \u001b[39mrange\u001b[39m(T)]\n\u001b[0;32m--> <a href='vscode-notebook-cell://wsl%2Bubuntu/home/samye/SSD%20multi-cut/Untitled%20copy_use%20linear%20evaluation.ipynb#X16sdnNjb2RlLXJlbW90ZQ%3D%3D?line=139'>140</a>\u001b[0m \u001b[39mraise\u001b[39;00m \u001b[39mException\u001b[39;00m(\u001b[39mf\u001b[39m\u001b[39m'\u001b[39m\u001b[39msubproblem stopped due to statuse code \u001b[39m\u001b[39m{\u001b[39;00msp\u001b[39m.\u001b[39mstatus\u001b[39m}\u001b[39;00m\u001b[39m)\u001b[39m\u001b[39m'\u001b[39m)\n",
      "\u001b[0;31mException\u001b[0m: subproblem stopped due to statuse code 12)"
     ]
    }
   ],
   "source": [
    "print(x_start)\n",
    "x, val_s, val_t = masterproblem(x_start, meta_parameter, scenario,bm)\n",
    "print(x)\n",
    "print(val_s)"
   ]
  },
  {
   "cell_type": "code",
   "execution_count": 70,
   "id": "6b2889f5",
   "metadata": {},
   "outputs": [],
   "source": [
    "from gurobipy import quicksum as qsum\n",
    "\n",
    "def subproblem_shift(x_s, meta_parameter, scenario_s, bm_s, penalty_shit = 0.01):\n",
    "    n = meta_parameter['number of agents']\n",
    "    K = meta_parameter['number of resources']\n",
    "\n",
    "    S = meta_parameter['number of S scenario']\n",
    "    T = meta_parameter['number of T scenario']\n",
    "    \n",
    "    alpha = 2*K\n",
    "    reallo_cost = 0.01\n",
    "    penalty_shit = 0.01\n",
    "    # w_s = sum(4*((scenario_s['xi_1'][i]*x_s[i]/alpha) - \\\n",
    "    #                 (scenario_s['xi_1'][i]*x_s[i]/alpha)**2)  for i in range(n))\n",
    "    w_s = sum(evaluation(scenario_s['xi_1'][i]*x_s[i], alpha) for i in range(n))\n",
    "    scenario_extended = {}\n",
    "    for t in range(T):\n",
    "        scenario_extended[t] = [scenario_s[t]['xi_2'][i]*(1-scenario_s['xi_1'][i]) for i in range(n)]\n",
    "        \n",
    "    prob_extended_list = [ scenario_s[j]['cond_prob'] for j in range(T)]\n",
    "\n",
    "    sp = gp.Model(\"subproblem\")\n",
    "    \n",
    "    z = sp.addVars(n,n, vtype=GRB.CONTINUOUS, name=\"z\", lb=list(np.zeros((n,n)))) #reallocate\n",
    "    y = sp.addVars(n,   vtype=GRB.CONTINUOUS, name=\"y\", lb=list(np.zeros(n))) #new resources\n",
    "    # shift = sp.addVar( vtype=GRB.CONTINUOUS, name=\"shift\", lb=0)\n",
    "    shift = sp.addVar(vtype=GRB.CONTINUOUS, name=\"shift\", lb=-GRB.INFINITY)\n",
    "\n",
    "    \n",
    "    #conditional probability of extended stage, conditioned by scenario s at second stage\n",
    "    extended_obj = {}\n",
    "    for t in range(T):\n",
    "        extended_obj[t] = shift + qsum(4*((scenario_extended[t][i]*y[i]/alpha) - \\\n",
    "                                    (scenario_extended[t][i]*y[i]/alpha)**2)  for i in range(n)) \n",
    "    extended_obj_exp = qsum(extended_obj[t]*prob_extended_list[t] for t in range(T))\n",
    "\n",
    "    obj = w_s- penalty_shit*shift + extended_obj_exp  - reallo_cost*z.sum()\n",
    "    sp.setObjective( obj, GRB.MAXIMIZE)\n",
    "\n",
    "    reallocate = sp.addConstrs( (y[i] == ((1-scenario_s['xi_1'][i])*x_s[i] + z.sum('*',i)-z.sum(i,'*')) for i in range(n)), \\\n",
    "                                    name = 'reallocate')\n",
    "\n",
    "    sp.setParam('OutputFlag', 0)\n",
    "    sp.setParam('QCPDual', 1)\n",
    "    sp.setParam('BarQCPConvTol', 1e-7)\n",
    "    # tolerance = 1e-2\n",
    "\n",
    "    max_it = 1e2\n",
    "    it = 0\n",
    "\n",
    "    value_list_b = [ bm_s['r_s'] + bm_s[t]['r_t'] for t in range(T) ]\n",
    "    shtf = sp.addVars(T, T, vtype=GRB.CONTINUOUS, name=\"shtf\", lb=list(np.zeros((T,T))))\n",
    "    shtf_def = sp.addConstrs( (shtf[t, tt] >= value_list_b[t] - shift \\\n",
    "        -w_s - extended_obj[tt] + reallo_cost*z.sum() \\\n",
    "              for t in range(T) for tt in range(T)), name = 'shtf_def')\n",
    "    \n",
    "    exp_shtf_bm = [sum(prob_extended_list[tt] * max(0,value_list_b[t]-value_list_b[tt])\\\n",
    "         for tt in range(T)) for t in range(T)]\n",
    "    \n",
    "    prob_extended_edit = dict( [((t,tt),prob_extended_list[tt])\\\n",
    "         for tt in range(T) for t in range(T)] )\n",
    "    \n",
    "    ord_constr = sp.addConstrs( (shtf.prod(prob_extended_edit, t, '*') \\\n",
    "        <= exp_shtf_bm[t] for t in range(T)), name = 'ord_constr' )\n",
    "    \n",
    "    sp.optimize()\n",
    "    try:\n",
    "        lmbd = [reallocate[i].Pi for i in range(n)]\n",
    "            \n",
    "        cut_subdiff = [lmbd[i]*(1-scenario_s['xi_1'][i]) + 4*(1-2*(scenario_s['xi_1'][i]/alpha)*x_s[i])\\\n",
    "            *(scenario_s['xi_1'][i]/alpha) for i in range(n)]\n",
    "        \n",
    "        obj_val = obj.getValue()\n",
    "        val_t = [extended_obj[t].getValue() for t in range(T)]\n",
    "\n",
    "        return cut_subdiff, 1, obj_val, val_t, shift.X\n",
    "    except:\n",
    "        raise Exception(f'subproblem event cut status code {sp.status})')\n",
    "    \n",
    "\n",
    "    # short_fall_b = {}\n",
    "    # for t in range(T):\n",
    "    #     short_fall_b[t] =  sum(bm_s[tt]['cond_prob']*max(value_list_b[t] - value_list_b[tt],0) \\\n",
    "    #                                                 for tt in range(T))\n",
    "    # while(it < max_it):\n",
    "    #     sp.optimize()\n",
    "    #     if sp.status == GRB.OPTIMAL:\n",
    "    #         short_fall = {}\n",
    "    #         for t in range(T):\n",
    "    #             short_fall[t] = sum(bm_s[tt]['cond_prob']*max(value_list_b[t]-\\\n",
    "    #                 w_s-extended_obj[tt].getValue() ,0) for tt in range(T))\n",
    "        \n",
    "    #         all_sat_flag = True\n",
    "    #         for t in range(T):\n",
    "    #             if short_fall[t]>short_fall_b[t] + tolerance:\n",
    "    #                 print('event_cut')\n",
    "    #                 all_sat_flag = False\n",
    "    #                 A = [tt for tt in range(T) if w_s + extended_obj[tt].getValue()<value_list_b[t]]\n",
    "    #                 a = qsum( bm_s[d]['cond_prob']*(value_list_b[t]-w_s-extended_obj[d]) for d in A)\n",
    "    #                 sp.addConstr( a<=short_fall_b[t], name= f'event_cut_{it}_{short_fall_b[t]}')\n",
    "            \n",
    "    #         if not all_sat_flag:\n",
    "    #             it += 1\n",
    "    #             continue\n",
    "\n",
    "    #         lmbd = [reallocate[i].Pi for i in range(n)]\n",
    "            \n",
    "    #         cut_subdiff = [lmbd[i]*(1-scenario_s['xi_1'][i]) + 4*(1-2*(scenario_s['xi_1'][i]/alpha)*x_s[i])\\\n",
    "    #             *(scenario_s['xi_1'][i]/alpha) for i in range(n)]\n",
    "            \n",
    "    #         obj_val = obj.getValue()\n",
    "    #         val_t = [extended_obj[t].getValue() for t in range(T)]\n",
    "\n",
    "    #         return cut_subdiff, 1, obj_val, val_t, shift.X\n",
    "    #     else:\n",
    "    #         raise Exception(f'subproblem event cut status code {sp.status})')\n",
    "    # raise Exception(f'subproblem pre-mature( max iteration {max_it})')"
   ]
  },
  {
   "cell_type": "code",
   "execution_count": 67,
   "id": "e5e881ed",
   "metadata": {},
   "outputs": [],
   "source": [
    "def masterproblem_shift(x_start, meta_parameter, scenario, bm, \\\n",
    "                                    max_it = 1e2, penalty_shit = 0.01):\n",
    "    n = meta_parameter['number of agents']\n",
    "    K = meta_parameter['number of resources']\n",
    "\n",
    "    S = meta_parameter['number of S scenario']\n",
    "    T = meta_parameter['number of T scenario']\n",
    "    \n",
    "\n",
    "\n",
    "    # if bm is none we consider risk-neutral solution\n",
    "    if bm is None:\n",
    "        bm = [None for i in range(S)]\n",
    "    \n",
    "    # nvm\n",
    "    # assert S == len(scenario)-1, f\" S not equal:\"\n",
    "    # assert T == len(scenario[0][0]), f\"T not equal\"\n",
    "\n",
    "    prob_s = [ scenario[s]['prob'] for s in range(S)]\n",
    "    \n",
    "    prob_s_dict = dict([(s, prob_s[s]) for s in range(S)])\n",
    "    \n",
    "    mp=gp.Model(\"masterproblem\")\n",
    "    \n",
    "    x = mp.addVars(n, vtype=GRB.CONTINUOUS, name=\"x\", lb=list(np.zeros(n)))\n",
    "    v = mp.addVars(S, vtype=GRB.CONTINUOUS, name=\"v\", lb=-GRB.INFINITY, ub=[100 for i in range(n)])\n",
    "    \n",
    "    v_exp = v.prod(prob_s_dict)\n",
    "    \n",
    "    mp.setObjective(v_exp, GRB.MAXIMIZE)\n",
    "    \n",
    "    mp.addConstr( x.sum() <= K )\n",
    "    \n",
    "    mp.setParam('OutputFlag', 1)\n",
    "    \n",
    "    it = 0 #iteration\n",
    "    \n",
    "    x_it = x_start #n*1 vector\n",
    "    cuts = {}\n",
    "    i_cut = 0\n",
    "    shift = [0 for i in range(S)]\n",
    "    while (it<max_it):\n",
    "        print('it', it)\n",
    "        optm_sec_stage = [0 for i in range(S)]\n",
    "        \n",
    "        feas_sec_stage = True\n",
    "        \n",
    "        v_t = []\n",
    "        #obj cut & feas cut\n",
    "        for s in range(S):\n",
    "            print('S',s)\n",
    "            subdiff, feas, val, val_t, shift[s] = subproblem_shift(x_it, meta_parameter, scenario[s], \n",
    "                                                                bm[s], penalty_shit)\n",
    "\n",
    "            if feas==1:\n",
    "                subdiff_dict = dict([(i,subdiff[i]) for i in range(n)])\n",
    "                cuts[i_cut] = mp.addConstr( v[s] <= val + x.prod(subdiff_dict) - sum(subdiff[i]*x_it[i]\\\n",
    "                     for i in range(n)) )\n",
    "                optm_sec_stage[s] = val\n",
    "                # print(\"\\n add a objective cut for scenario\", 'it:', it, 'scenario' ,s, \"\\n\")\n",
    "                \n",
    "                i_cut += 1\n",
    "            elif feas==0:\n",
    "                subdiff_dict = dict([(i,subdiff[i]) for i in range(n)])\n",
    "                mp.addConstr( val + x.prod(subdiff_dict) - sum(subdiff[i]*x_it[i] for i in range(n)) <= 0 )\n",
    "                \n",
    "                feas_sec_stage = False\n",
    "                optm_sec_stage[s] = -float('inf')\n",
    "                print(\"\\n add a feasbility cut for scenario\", 'it:', it, 'scenario' ,s, \"\\n\")\n",
    "            v_t.append(val_t)\n",
    "        \n",
    "        mp.optimize()\n",
    "        print(mp.display())\n",
    "        if mp.status != GRB.OPTIMAL:\n",
    "            raise Exception(f'master problem status code {mp.status}')\n",
    "        x_it = [x[i].x for i in range(n)]\n",
    "        \n",
    "        if feas_sec_stage == False:\n",
    "            it = it + 1\n",
    "            continue\n",
    "             \n",
    "        \n",
    "        stop_crit = sum(abs(optm_sec_stage[s]-v[s].x) for s in range(S))\n",
    "        \n",
    "        # print(optm_sec_stage)\n",
    "        # print([v[s].x for s in range(S)])\n",
    "        if ( stop_crit < 1e-3 ):\n",
    "            break;    \n",
    "            \n",
    "        it = it + 1\n",
    "    if it<max_it:\n",
    "        return x_it, [v[s].x for s in range(S)], v_t, shift\n",
    "    else:\n",
    "        print('pre-mature as max iteration number reached')\n",
    "        return x_it, [v[s].x for s in range(S)], v_t, shift"
   ]
  },
  {
   "cell_type": "code",
   "execution_count": 71,
   "id": "7a6f46be",
   "metadata": {},
   "outputs": [
    {
     "name": "stdout",
     "output_type": "stream",
     "text": [
      "[1, 1, 1]\n",
      "it 0\n",
      "S 0\n"
     ]
    },
    {
     "ename": "Exception",
     "evalue": "subproblem event cut status code 12)",
     "output_type": "error",
     "traceback": [
      "\u001b[0;31m---------------------------------------------------------------------------\u001b[0m",
      "\u001b[0;31mAttributeError\u001b[0m                            Traceback (most recent call last)",
      "\u001b[1;32m/home/samye/SSD multi-cut/Untitled copy_use linear evaluation.ipynb Cell 19\u001b[0m in \u001b[0;36msubproblem_shift\u001b[0;34m(x_s, meta_parameter, scenario_s, bm_s, penalty_shit)\u001b[0m\n\u001b[1;32m     <a href='vscode-notebook-cell://wsl%2Bubuntu/home/samye/SSD%20multi-cut/Untitled%20copy_use%20linear%20evaluation.ipynb#X22sdnNjb2RlLXJlbW90ZQ%3D%3D?line=66'>67</a>\u001b[0m \u001b[39mtry\u001b[39;00m:\n\u001b[0;32m---> <a href='vscode-notebook-cell://wsl%2Bubuntu/home/samye/SSD%20multi-cut/Untitled%20copy_use%20linear%20evaluation.ipynb#X22sdnNjb2RlLXJlbW90ZQ%3D%3D?line=67'>68</a>\u001b[0m     lmbd \u001b[39m=\u001b[39m [reallocate[i]\u001b[39m.\u001b[39mPi \u001b[39mfor\u001b[39;00m i \u001b[39min\u001b[39;00m \u001b[39mrange\u001b[39m(n)]\n\u001b[1;32m     <a href='vscode-notebook-cell://wsl%2Bubuntu/home/samye/SSD%20multi-cut/Untitled%20copy_use%20linear%20evaluation.ipynb#X22sdnNjb2RlLXJlbW90ZQ%3D%3D?line=69'>70</a>\u001b[0m     cut_subdiff \u001b[39m=\u001b[39m [lmbd[i]\u001b[39m*\u001b[39m(\u001b[39m1\u001b[39m\u001b[39m-\u001b[39mscenario_s[\u001b[39m'\u001b[39m\u001b[39mxi_1\u001b[39m\u001b[39m'\u001b[39m][i]) \u001b[39m+\u001b[39m \u001b[39m4\u001b[39m\u001b[39m*\u001b[39m(\u001b[39m1\u001b[39m\u001b[39m-\u001b[39m\u001b[39m2\u001b[39m\u001b[39m*\u001b[39m(scenario_s[\u001b[39m'\u001b[39m\u001b[39mxi_1\u001b[39m\u001b[39m'\u001b[39m][i]\u001b[39m/\u001b[39malpha)\u001b[39m*\u001b[39mx_s[i])\\\n\u001b[1;32m     <a href='vscode-notebook-cell://wsl%2Bubuntu/home/samye/SSD%20multi-cut/Untitled%20copy_use%20linear%20evaluation.ipynb#X22sdnNjb2RlLXJlbW90ZQ%3D%3D?line=70'>71</a>\u001b[0m         \u001b[39m*\u001b[39m(scenario_s[\u001b[39m'\u001b[39m\u001b[39mxi_1\u001b[39m\u001b[39m'\u001b[39m][i]\u001b[39m/\u001b[39malpha) \u001b[39mfor\u001b[39;00m i \u001b[39min\u001b[39;00m \u001b[39mrange\u001b[39m(n)]\n",
      "\u001b[1;32m/home/samye/SSD multi-cut/Untitled copy_use linear evaluation.ipynb Cell 19\u001b[0m in \u001b[0;36m<listcomp>\u001b[0;34m(.0)\u001b[0m\n\u001b[1;32m     <a href='vscode-notebook-cell://wsl%2Bubuntu/home/samye/SSD%20multi-cut/Untitled%20copy_use%20linear%20evaluation.ipynb#X22sdnNjb2RlLXJlbW90ZQ%3D%3D?line=66'>67</a>\u001b[0m \u001b[39mtry\u001b[39;00m:\n\u001b[0;32m---> <a href='vscode-notebook-cell://wsl%2Bubuntu/home/samye/SSD%20multi-cut/Untitled%20copy_use%20linear%20evaluation.ipynb#X22sdnNjb2RlLXJlbW90ZQ%3D%3D?line=67'>68</a>\u001b[0m     lmbd \u001b[39m=\u001b[39m [reallocate[i]\u001b[39m.\u001b[39;49mPi \u001b[39mfor\u001b[39;00m i \u001b[39min\u001b[39;00m \u001b[39mrange\u001b[39m(n)]\n\u001b[1;32m     <a href='vscode-notebook-cell://wsl%2Bubuntu/home/samye/SSD%20multi-cut/Untitled%20copy_use%20linear%20evaluation.ipynb#X22sdnNjb2RlLXJlbW90ZQ%3D%3D?line=69'>70</a>\u001b[0m     cut_subdiff \u001b[39m=\u001b[39m [lmbd[i]\u001b[39m*\u001b[39m(\u001b[39m1\u001b[39m\u001b[39m-\u001b[39mscenario_s[\u001b[39m'\u001b[39m\u001b[39mxi_1\u001b[39m\u001b[39m'\u001b[39m][i]) \u001b[39m+\u001b[39m \u001b[39m4\u001b[39m\u001b[39m*\u001b[39m(\u001b[39m1\u001b[39m\u001b[39m-\u001b[39m\u001b[39m2\u001b[39m\u001b[39m*\u001b[39m(scenario_s[\u001b[39m'\u001b[39m\u001b[39mxi_1\u001b[39m\u001b[39m'\u001b[39m][i]\u001b[39m/\u001b[39malpha)\u001b[39m*\u001b[39mx_s[i])\\\n\u001b[1;32m     <a href='vscode-notebook-cell://wsl%2Bubuntu/home/samye/SSD%20multi-cut/Untitled%20copy_use%20linear%20evaluation.ipynb#X22sdnNjb2RlLXJlbW90ZQ%3D%3D?line=70'>71</a>\u001b[0m         \u001b[39m*\u001b[39m(scenario_s[\u001b[39m'\u001b[39m\u001b[39mxi_1\u001b[39m\u001b[39m'\u001b[39m][i]\u001b[39m/\u001b[39malpha) \u001b[39mfor\u001b[39;00m i \u001b[39min\u001b[39;00m \u001b[39mrange\u001b[39m(n)]\n",
      "File \u001b[0;32msrc/gurobipy/constr.pxi:67\u001b[0m, in \u001b[0;36mgurobipy.Constr.__getattr__\u001b[0;34m()\u001b[0m\n",
      "File \u001b[0;32msrc/gurobipy/constr.pxi:95\u001b[0m, in \u001b[0;36mgurobipy.Constr.getAttr\u001b[0;34m()\u001b[0m\n",
      "File \u001b[0;32msrc/gurobipy/attrutil.pxi:100\u001b[0m, in \u001b[0;36mgurobipy.__getattr\u001b[0;34m()\u001b[0m\n",
      "\u001b[0;31mAttributeError\u001b[0m: Unable to retrieve attribute 'Pi'",
      "\nDuring handling of the above exception, another exception occurred:\n",
      "\u001b[0;31mException\u001b[0m                                 Traceback (most recent call last)",
      "\u001b[1;32m/home/samye/SSD multi-cut/Untitled copy_use linear evaluation.ipynb Cell 19\u001b[0m in \u001b[0;36m<cell line: 2>\u001b[0;34m()\u001b[0m\n\u001b[1;32m      <a href='vscode-notebook-cell://wsl%2Bubuntu/home/samye/SSD%20multi-cut/Untitled%20copy_use%20linear%20evaluation.ipynb#X22sdnNjb2RlLXJlbW90ZQ%3D%3D?line=0'>1</a>\u001b[0m \u001b[39mprint\u001b[39m(x_start)\n\u001b[0;32m----> <a href='vscode-notebook-cell://wsl%2Bubuntu/home/samye/SSD%20multi-cut/Untitled%20copy_use%20linear%20evaluation.ipynb#X22sdnNjb2RlLXJlbW90ZQ%3D%3D?line=1'>2</a>\u001b[0m x, val_s, val_t,shift \u001b[39m=\u001b[39m masterproblem_shift(x_start, meta_parameter, scenario,bm, \u001b[39m20\u001b[39;49m)\n\u001b[1;32m      <a href='vscode-notebook-cell://wsl%2Bubuntu/home/samye/SSD%20multi-cut/Untitled%20copy_use%20linear%20evaluation.ipynb#X22sdnNjb2RlLXJlbW90ZQ%3D%3D?line=2'>3</a>\u001b[0m \u001b[39mprint\u001b[39m(x)\n\u001b[1;32m      <a href='vscode-notebook-cell://wsl%2Bubuntu/home/samye/SSD%20multi-cut/Untitled%20copy_use%20linear%20evaluation.ipynb#X22sdnNjb2RlLXJlbW90ZQ%3D%3D?line=4'>5</a>\u001b[0m \u001b[39mprint\u001b[39m(shift)\n",
      "\u001b[1;32m/home/samye/SSD multi-cut/Untitled copy_use linear evaluation.ipynb Cell 19\u001b[0m in \u001b[0;36mmasterproblem_shift\u001b[0;34m(x_start, meta_parameter, scenario, bm, max_it, penalty_shit)\u001b[0m\n\u001b[1;32m     <a href='vscode-notebook-cell://wsl%2Bubuntu/home/samye/SSD%20multi-cut/Untitled%20copy_use%20linear%20evaluation.ipynb#X22sdnNjb2RlLXJlbW90ZQ%3D%3D?line=49'>50</a>\u001b[0m \u001b[39mfor\u001b[39;00m s \u001b[39min\u001b[39;00m \u001b[39mrange\u001b[39m(S):\n\u001b[1;32m     <a href='vscode-notebook-cell://wsl%2Bubuntu/home/samye/SSD%20multi-cut/Untitled%20copy_use%20linear%20evaluation.ipynb#X22sdnNjb2RlLXJlbW90ZQ%3D%3D?line=50'>51</a>\u001b[0m     \u001b[39mprint\u001b[39m(\u001b[39m'\u001b[39m\u001b[39mS\u001b[39m\u001b[39m'\u001b[39m,s)\n\u001b[0;32m---> <a href='vscode-notebook-cell://wsl%2Bubuntu/home/samye/SSD%20multi-cut/Untitled%20copy_use%20linear%20evaluation.ipynb#X22sdnNjb2RlLXJlbW90ZQ%3D%3D?line=51'>52</a>\u001b[0m     subdiff, feas, val, val_t, shift[s] \u001b[39m=\u001b[39m subproblem_shift(x_it, meta_parameter, scenario[s], \n\u001b[1;32m     <a href='vscode-notebook-cell://wsl%2Bubuntu/home/samye/SSD%20multi-cut/Untitled%20copy_use%20linear%20evaluation.ipynb#X22sdnNjb2RlLXJlbW90ZQ%3D%3D?line=52'>53</a>\u001b[0m                                                         bm[s], penalty_shit)\n\u001b[1;32m     <a href='vscode-notebook-cell://wsl%2Bubuntu/home/samye/SSD%20multi-cut/Untitled%20copy_use%20linear%20evaluation.ipynb#X22sdnNjb2RlLXJlbW90ZQ%3D%3D?line=54'>55</a>\u001b[0m     \u001b[39mif\u001b[39;00m feas\u001b[39m==\u001b[39m\u001b[39m1\u001b[39m:\n\u001b[1;32m     <a href='vscode-notebook-cell://wsl%2Bubuntu/home/samye/SSD%20multi-cut/Untitled%20copy_use%20linear%20evaluation.ipynb#X22sdnNjb2RlLXJlbW90ZQ%3D%3D?line=55'>56</a>\u001b[0m         subdiff_dict \u001b[39m=\u001b[39m \u001b[39mdict\u001b[39m([(i,subdiff[i]) \u001b[39mfor\u001b[39;00m i \u001b[39min\u001b[39;00m \u001b[39mrange\u001b[39m(n)])\n",
      "\u001b[1;32m/home/samye/SSD multi-cut/Untitled copy_use linear evaluation.ipynb Cell 19\u001b[0m in \u001b[0;36msubproblem_shift\u001b[0;34m(x_s, meta_parameter, scenario_s, bm_s, penalty_shit)\u001b[0m\n\u001b[1;32m     <a href='vscode-notebook-cell://wsl%2Bubuntu/home/samye/SSD%20multi-cut/Untitled%20copy_use%20linear%20evaluation.ipynb#X22sdnNjb2RlLXJlbW90ZQ%3D%3D?line=75'>76</a>\u001b[0m     \u001b[39mreturn\u001b[39;00m cut_subdiff, \u001b[39m1\u001b[39m, obj_val, val_t, shift\u001b[39m.\u001b[39mX\n\u001b[1;32m     <a href='vscode-notebook-cell://wsl%2Bubuntu/home/samye/SSD%20multi-cut/Untitled%20copy_use%20linear%20evaluation.ipynb#X22sdnNjb2RlLXJlbW90ZQ%3D%3D?line=76'>77</a>\u001b[0m \u001b[39mexcept\u001b[39;00m:\n\u001b[0;32m---> <a href='vscode-notebook-cell://wsl%2Bubuntu/home/samye/SSD%20multi-cut/Untitled%20copy_use%20linear%20evaluation.ipynb#X22sdnNjb2RlLXJlbW90ZQ%3D%3D?line=77'>78</a>\u001b[0m     \u001b[39mraise\u001b[39;00m \u001b[39mException\u001b[39;00m(\u001b[39mf\u001b[39m\u001b[39m'\u001b[39m\u001b[39msubproblem event cut status code \u001b[39m\u001b[39m{\u001b[39;00msp\u001b[39m.\u001b[39mstatus\u001b[39m}\u001b[39;00m\u001b[39m)\u001b[39m\u001b[39m'\u001b[39m)\n",
      "\u001b[0;31mException\u001b[0m: subproblem event cut status code 12)"
     ]
    }
   ],
   "source": [
    "print(x_start)\n",
    "x, val_s, val_t,shift = masterproblem_shift(x_start, meta_parameter, scenario,bm, 20)\n",
    "print(x)\n",
    "\n",
    "print(shift)"
   ]
  },
  {
   "cell_type": "code",
   "execution_count": null,
   "id": "90eddab5",
   "metadata": {},
   "outputs": [],
   "source": [
    "[0.6224035485546917, -1.9475850163533446, -0.636754857307265]\n",
    "[0.43909448293787534, 0.18540771582770788, -0.1681962526317875]\n",
    "\n",
    "[2.0, 0.0, 0.0]\n",
    "[0.6224035485546917, -1.9475850163533446, -0.636754857307265]\n",
    "[1.1941566880653482, 0.5566422066061136, 0.4357746714843529]"
   ]
  },
  {
   "cell_type": "code",
   "execution_count": null,
   "id": "f92f1d09",
   "metadata": {},
   "outputs": [
    {
     "data": {
      "text/plain": [
       "[<matplotlib.lines.Line2D at 0x7faff07fe7c0>]"
      ]
     },
     "execution_count": 405,
     "metadata": {},
     "output_type": "execute_result"
    },
    {
     "data": {
      "image/png": "[encoded data removed]",
      "text/plain": [
       "<Figure size 432x288 with 1 Axes>"
      ]
     },
     "metadata": {
      "needs_background": "light"
     },
     "output_type": "display_data"
    }
   ],
   "source": [
    "#F^{(2)} at first stage\n",
    "import numpy as np\n",
    "import matplotlib.pyplot as plt\n",
    "\n",
    "prob_first_stage = [sum(scenario[0][s][t][2] for t in range(T)) for s in range(S)]\n",
    "\n",
    "v_bm_p = [[v_bm[s], prob_first_stage[s]] for s in range(S)]\n",
    "v_bm_p.sort()\n",
    "\n",
    "v_ssd_p = [[v_ssd[s], prob_first_stage[s]] for s in range(S)]\n",
    "v_ssd_p.sort()\n",
    "\n",
    "x_min = min(min([v_bm,v_ssd])) - 0.1\n",
    "x_max = max(max([v_bm,v_ssd])) + 0.1\n",
    "x_axis = np.linspace(x_min,x_max,50)\n",
    "\n",
    "y_axis_bm = [sum(v_bm_p[s][1]*max(0,(x-v_bm_p[s][0])) for s in range(S)) for x in x_axis]\n",
    "\n",
    "y_axis_ssd = [sum(v_ssd_p[s][1]*max(0,(x-v_ssd_p[s][0])) for s in range(S)) for x in x_axis]\n",
    "\n",
    "plt.figure()\n",
    "plt.plot(x_axis, y_axis_bm, color='tab:blue') #benchmark\n",
    "plt.plot(x_axis, y_axis_ssd, color='tab:orange')"
   ]
  },
  {
   "cell_type": "code",
   "execution_count": null,
   "id": "d16f17e7",
   "metadata": {},
   "outputs": [
    {
     "data": {
      "text/plain": [
       "([0.72, 0.72, 0.72],\n",
       " [0.7533917736278078, 0.7311509345550185, 0.72],\n",
       " [5.0, 0.0, 0.0],\n",
       " [4.099196689941724, 0.0, 0.9008033100582757])"
      ]
     },
     "execution_count": 30,
     "metadata": {},
     "output_type": "execute_result"
    }
   ],
   "source": [
    "v_bm,v_ssd, x_bm, x_ssd"
   ]
  },
  {
   "cell_type": "code",
   "execution_count": null,
   "id": "1b103676",
   "metadata": {},
   "outputs": [],
   "source": [
    "#m = gp.Model(\"m\")\n",
    "#x = m.addVar(vtype=GRB.CONTINUOUS, name=\"x\", lb=0)\n",
    "#y = m.addVar(vtype=GRB.CONTINUOUS, name=\"y\", lb=0)\n",
    "#m.setObjective(x-y, GRB.MINIMIZE)\n",
    "#m.addConstr((x==1)>>(y-2*x<=0), name = \"quad\")\n",
    "#m.addConstr((x==0)>>(y+x==0), name = \"constant\")\n",
    "#m.optimize()"
   ]
  },
  {
   "cell_type": "code",
   "execution_count": null,
   "id": "06a14a70",
   "metadata": {},
   "outputs": [
    {
     "data": {
      "text/plain": [
       "[2.4000000000000004, 3.2, 4.0]"
      ]
     },
     "execution_count": 648,
     "metadata": {},
     "output_type": "execute_result"
    }
   ],
   "source": [
    "a=[3+i for i in range(3)]\n",
    "[a[i]*0.8 for i in range(len(a))]"
   ]
  },
  {
   "cell_type": "code",
   "execution_count": null,
   "id": "69d727c0",
   "metadata": {},
   "outputs": [
    {
     "data": {
      "text/plain": [
       "2"
      ]
     },
     "execution_count": 137,
     "metadata": {},
     "output_type": "execute_result"
    }
   ],
   "source": [
    "def func(x):\n",
    "    return x, x**2\n",
    "\n",
    "(a,_) = func(2)\n",
    "a"
   ]
  },
  {
   "cell_type": "code",
   "execution_count": null,
   "id": "684451d6",
   "metadata": {},
   "outputs": [
    {
     "data": {
      "text/plain": [
       "[1.0, 1.0, 1.0]"
      ]
     },
     "execution_count": 113,
     "metadata": {},
     "output_type": "execute_result"
    }
   ],
   "source": [
    "ab = (np.ones(3)).tolist()\n",
    "#ab = ab.tolist()\n",
    "ab"
   ]
  },
  {
   "cell_type": "code",
   "execution_count": null,
   "id": "c14f7049",
   "metadata": {},
   "outputs": [
    {
     "name": "stdout",
     "output_type": "stream",
     "text": [
      "0\n",
      "1\n",
      "2\n"
     ]
    }
   ],
   "source": [
    "for i in range(0,3):\n",
    "    print(i)"
   ]
  },
  {
   "cell_type": "code",
   "execution_count": null,
   "id": "f649fae9",
   "metadata": {},
   "outputs": [],
   "source": []
  }
 ],
 "metadata": {
  "kernelspec": {
   "display_name": "Python 3.8.13 ('base')",
   "language": "python",
   "name": "python3"
  },
  "language_info": {
   "codemirror_mode": {
    "name": "ipython",
    "version": 3
   },
   "file_extension": ".py",
   "mimetype": "text/x-python",
   "name": "python",
   "nbconvert_exporter": "python",
   "pygments_lexer": "ipython3",
   "version": "3.8.13"
  },
  "vscode": {
   "interpreter": {
    "hash": "55c0abf9ebf71de7a37bfa50e7403ab6fc7d3ad05fefc5dfd0756f219dc024c3"
   }
  }
 },
 "nbformat": 4,
 "nbformat_minor": 5
}
