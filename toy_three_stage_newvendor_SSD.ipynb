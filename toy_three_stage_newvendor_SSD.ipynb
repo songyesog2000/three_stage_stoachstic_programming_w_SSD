{
 "cells": [
  {
   "cell_type": "markdown",
   "id": "6cf1bfc3",
   "metadata": {},
   "source": [
    "### Problem setting\n",
    "we consider a three stage news vendor problem\n",
    "1) first stage:<br>\n",
    "&emsp; vendors require a fix-investment from agents:<br>\n",
    "        &emsp;&emsp;variable:<br>\n",
    "            &emsp;&emsp; &emsp;p\\in (0,10) - units of investment<br>\n",
    "        &emsp;&emsp;coeffients:<br>\n",
    "            &emsp;&emsp; &emsp; 2 - cost per unit of investment<br>\n",
    "            \n",
    "2) second stage<br>\n",
    "    agents buy news paper from vendors before retailing it, <br>\n",
    "    the available quantity depends on the fix investmentthe:<br>\n",
    "        variable:<br>\n",
    "            x \\in (0,10*p)- units of news paper<br>\n",
    "        coeffients:<br>\n",
    "            -1 - cost per unit of news paper<br>\n",
    "        random variable:<br>\n",
    "3) third stage, agents retail news paper to individuals:<br>\n",
    "&emsp; &emsp; variables:<br>\n",
    "&emsp; &emsp; &emsp; z $\\in (0,x)$, number of sold news paper<br>\n",
    "&emsp; &emsp; random variables:<br>\n",
    "&emsp; &emsp; &emsp; d $\\in (0,\\inf)$, demand<br> \n",
    "      "
   ]
  },
  {
   "cell_type": "markdown",
   "id": "db6d2aaa",
   "metadata": {},
   "source": [
    "#### Stage Scenario Data"
   ]
  },
  {
   "cell_type": "code",
   "execution_count": 27,
   "id": "755328bb",
   "metadata": {},
   "outputs": [],
   "source": [
    "'''\n",
    "Template of scenario data structure\n",
    "Let x - first stage r.v. \n",
    "    y - second stage r.v\n",
    "    z, d - third stage r.v. \n",
    "\n",
    "scenario['third_stage'] = {\n",
    "    'third_stage':{\n",
    "        'random_variables':[ 'z','d' ], #list of varaible_name\n",
    "        'conditions': [ (x_1,y_1),... ]\n",
    "            # list of realized values of previous random variables\n",
    "            # = second_stage:condition x second_stage:value\n",
    "        'values':[ (z_1,d_1),... ]\n",
    "            # list of all posible values to current random variables\n",
    "            # for the convience, \n",
    "            # we don't decomposite each value pair by r.v.\n",
    "            # and avoid using joint probabiity representation\n",
    "        'probabilities': {\n",
    "                i: [(j,probability), ...],\n",
    "                .\n",
    "                .\n",
    "                .\n",
    "                num_conditions: [ (j, probibility),... ]\n",
    "                    # i idx to thrid_stage:condition\n",
    "                    # j idx to third_stage:values\n",
    "                    # num_conditions for the non-conditional case\n",
    "                    # num_conditions:[] if not provided\n",
    "        }\n",
    "            # dict of the probabilies responding to third_stage:value\n",
    "    }\n",
    "}\n",
    "# the first two stages can ignore keywords accordingly,\n",
    "# e.g. scenario['first_stage'] is empty coz there is no randomness\n",
    "'''\n",
    "scenario = {}\n",
    "\n",
    "scenario['second_stage'] = {\n",
    "    'random_variables': ['cap'],\n",
    "    'conditions': [],\n",
    "    'values':[2, 4, 6],\n",
    "    'probabilies':{\n",
    "        0: [(0,0.5), (1,0.4),(2,0.1)]\n",
    "    }\n",
    "}\n",
    "\n",
    "scenario['third_stage'] = {\n",
    "    'random_variables': ['d'],\n",
    "    'conditions': scenario['second_stage']['values'],\n",
    "    'conditions_prob':[prob for _,prob in scenario['second_stage']['probabilies'][0] ],\n",
    "    'values': [10, 14, 16, 18, 22],\n",
    "    'probabilies':{\n",
    "        0: [(0,0.5), (1,0.4), (3,0.1)],\n",
    "        1: [(1,0.4), (2,0.3), (3,0.3)],\n",
    "        2: [(2,0.4), (3,0.4), (4,0.2)]\n",
    "    }\n",
    "}"
   ]
  },
  {
   "cell_type": "markdown",
   "id": "8ff54e1b",
   "metadata": {},
   "source": [
    "#### Benchmark"
   ]
  },
  {
   "cell_type": "code",
   "execution_count": 45,
   "id": "ebfdf43b",
   "metadata": {
    "scrolled": true
   },
   "outputs": [
    {
     "name": "stdout",
     "output_type": "stream",
     "text": [
      "{'first_stage': {'r': [-1.2], 's': [1.0]}, 'second_stage': {'r': [-8, -10, -10], 's': [0.5, 0.4, 0.1]}, 'third_stage': {'conditions': [2, 4, 6], 'r': {0: [12.0, 12.0, 12.0], 1: [21.0, 24.0, 24.0], 2: [24.0, 27.0, 33.0]}, 's': {0: [0.5, 0.4, 0.1], 1: [0.4, 0.3, 0.3], 2: [0.4, 0.4, 0.2]}}}\n"
     ]
    }
   ],
   "source": [
    "import numpy as np\n",
    "import math\n",
    "\n",
    "# decision policy -> a reward r.v.\n",
    "# integer for all variables\n",
    "q = 4\n",
    "# 22 is the upper bound for the potential demands\n",
    "# supply <= demands according to the problem setting\n",
    "# q*cap <= d_max, where (cap,d_max) = (2,18), (4,18), (6,22)\n",
    "\n",
    "# x = policy_x(q,cap)\n",
    "# we use table to represent the policy\n",
    "x = { q:{cap: min(q*cap,10) for cap in [2,4,6]} for q in range(1,10)}\n",
    "# policy that agent buy as much as possible if supply is less than 10\n",
    "#  otherwise buy 10 units\n",
    "\n",
    "\n",
    "def ssd_benchmark_by_q_x( q, x, scenario):\n",
    "    benchmark = {}\n",
    "    benchmark['first_stage'] = {\n",
    "        'r': [-q*0.3],\n",
    "        's': [1.0]\n",
    "    }\n",
    "    \n",
    "    # tem_num_condition = len(scenario['second_stage']['conditions'])\n",
    "    benchmark['second_stage'] = {\n",
    "        'r': [-x[q][cap] for cap in scenario['second_stage']['values']],\n",
    "        's': [ prob for _,prob in scenario['second_stage']['probabilies'][0]]\n",
    "    }\n",
    "    \n",
    "    conditions = scenario['third_stage']['conditions']\n",
    "    values = scenario['third_stage']['values']\n",
    "    \n",
    "    benchmark['third_stage'] = {\n",
    "        'conditions': scenario['third_stage']['conditions'],\n",
    "        'r': { \n",
    "                c_idx:[ 1.5*min(q*conditions[c_idx],\\\n",
    "                                    values[v_idx]) for v_idx,p in prob_v] \\\n",
    "                  for c_idx,prob_v in scenario['third_stage']['probabilies'].items()\n",
    "        },\n",
    "        's': { \n",
    "                c_idx:[ p for v_idx,p in prob_v] \\\n",
    "                  for c_idx,prob_v in scenario['third_stage']['probabilies'].items()\n",
    "        }\n",
    "    }\n",
    "    \n",
    "    return benchmark\n",
    "    \n",
    "print(ssd_benchmark_by_q_x(q, x, scenario))"
   ]
  },
  {
   "cell_type": "markdown",
   "id": "ee0df832",
   "metadata": {},
   "source": [
    "#### Optimal policy of $x$ by solve two-stage subproblems\n",
    "Given a determined $q$<br>\n",
    "Distribution of scenarios is given as the above<br>\n",
    "No SSD contraints to consider"
   ]
  },
  {
   "cell_type": "code",
   "execution_count": 44,
   "id": "8a76f01e",
   "metadata": {
    "scrolled": true
   },
   "outputs": [
    {
     "name": "stdout",
     "output_type": "stream",
     "text": [
      "q || optilmal policy of q || total reward\n",
      "1 || {2: 2.0, 4: 4.0, 6: 6.0} || 1.3000000000000005\n",
      "2 || {2: 4.0, 4: 8.0, 6: 12.0} || 2.600000000000001\n",
      "3 || {2: 6.0, 4: 12.0, 6: 16.0} || 3.800000000000001\n",
      "4 || {2: 8.0, 4: 14.0, 6: 16.0} || 4.400000000000001\n",
      "5 || {2: 10.0, 4: 14.0, 6: 16.0} || 4.600000000000001\n",
      "6 || {2: 10.0, 4: 14.0, 6: 16.0} || 4.300000000000002\n",
      "7 || {2: 10.0, 4: 14.0, 6: 16.0} || 4.000000000000002\n",
      "8 || {2: 10.0, 4: 14.0, 6: 16.0} || 3.7000000000000015\n",
      "9 || {2: 10.0, 4: 14.0, 6: 16.0} || 3.4000000000000017\n"
     ]
    }
   ],
   "source": [
    "import gurobipy as gp\n",
    "from gurobipy import GRB\n",
    "from collections import defaultdict\n",
    "\n",
    "def second_stage_policy(q, scenario)->(dict,float):\n",
    "    policy_x = {}\n",
    "    r_x = {}\n",
    "    conditions = scenario['third_stage']['conditions']\n",
    "    values = scenario['third_stage']['values']\n",
    "    # first stage\n",
    "    for c_idx,list_v_p in scenario['third_stage']['probabilies'].items():\n",
    "        cap = conditions[c_idx]\n",
    "        upper_bound = q*cap\n",
    "        # upper_bound for x\n",
    "        m = gp.Model(f'second_stage_cap_{cap}')\n",
    "        m.Params.LogToConsole = 0\n",
    "        x = m.addVar(vtype = GRB.CONTINUOUS, name = 'x')\n",
    "        \n",
    "        m.addConstr(x<=upper_bound)\n",
    "        x_d_aug = {}\n",
    "        \n",
    "        for v_idx,prob in list_v_p:\n",
    "            d = values[v_idx]\n",
    "            tem_x_d_aug = m.addVar(vtype = GRB.CONTINUOUS, name = f\"min(x,{d})\")\n",
    "            # an auxiliary variable for min(x,d)\n",
    "            \n",
    "            x_d_aug[d] = tem_x_d_aug\n",
    "            # store in the dict \n",
    "            \n",
    "            m.addConstr(tem_x_d_aug<=x)\n",
    "            m.addConstr(tem_x_d_aug<=d)\n",
    "\n",
    "        m.setObjective(-x+sum( 1.5*x_d_aug[values[v_idx]]*prob for v_idx, prob in list_v_p) , GRB.MAXIMIZE)\n",
    "        m.optimize()\n",
    "        policy_x[cap] = x.X\n",
    "        r_x[cap] =m.getObjective().getValue()\n",
    "    return policy_x, sum( r_x[conditions[i]]*scenario['third_stage']['conditions_prob'][i] for i in  range(3))\n",
    "print('q || optilmal policy of q || total reward')\n",
    "for q in range(1,10):\n",
    "    policy_x, expected_r = second_stage_policy(q, scenario)\n",
    "    print(q,'||', policy_x, '||',expected_r-0.3*q)"
   ]
  },
  {
   "cell_type": "markdown",
   "id": "4668fed5",
   "metadata": {},
   "source": [
    "Obviously, for $q>=5$, the optimal policy is not sensitive to $q$ anymore, that is, the second stage is not sensitive to the upper bound $q*cap$ <br>\n",
    "Thus, $q=5$ and $x(q,\\cdot)$ = { 2->10, 4->14.0, 6->16} is optimal solution when no consideration of SSD "
   ]
  },
  {
   "cell_type": "markdown",
   "id": "d7ae7bdc",
   "metadata": {},
   "source": [
    "#### Optimal benchmark"
   ]
  },
  {
   "cell_type": "code",
   "execution_count": 48,
   "id": "cbd2fd09",
   "metadata": {},
   "outputs": [
    {
     "name": "stdout",
     "output_type": "stream",
     "text": [
      "{'first_stage': {'r': [-1.5], 's': [1.0]}, 'second_stage': {'r': [-10.0, -14.0, -16.0], 's': [0.5, 0.4, 0.1]}, 'third_stage': {'conditions': [2, 4, 6], 'r': {0: [15.0, 15.0, 15.0], 1: [21.0, 24.0, 27.0], 2: [24.0, 27.0, 33.0]}, 's': {0: [0.5, 0.4, 0.1], 1: [0.4, 0.3, 0.3], 2: [0.4, 0.4, 0.2]}}}\n"
     ]
    }
   ],
   "source": [
    "q = 5\n",
    "x = {}\n",
    "x[q],_ = second_stage_policy(q, scenario)\n",
    "\n",
    "optimal_benchmark = ssd_benchmark_by_q_x(5, x, scenario)\n",
    "print(optimal_benchmark)"
   ]
  },
  {
   "cell_type": "markdown",
   "id": "d05ed8f1",
   "metadata": {},
   "source": [
    "#### Breakpoints of SSD benchmark"
   ]
  },
  {
   "cell_type": "code",
   "execution_count": null,
   "id": "832f62ad",
   "metadata": {},
   "outputs": [],
   "source": [
    "# agent buy x units\n",
    "coefficient_first_stage = [-1]\n",
    "# price for agent\n",
    "bound_first_stage = [0,1000]\n",
    "# units the agent can buy\n",
    "\n",
    "# agent sell u units\n",
    "coefficient_second_stage = [1.5]\n",
    "bound_second_stage = [0,1000]\n",
    "# it is subject to undeterministic quantaty\n",
    "# u<=d\n",
    "# u<=x\n",
    "\n",
    "# probability distribution for the demand d\n",
    "# (d,probability)\n",
    "scenario_second_stage = [(10,0.1),(14,0.4),(16,0.3),(18,0.2)]\n",
    "\n",
    "# since the optimal x is on the interval (10,18) due to the simplicity\n",
    "# alternatively, blender decomposition can solve problem too\n",
    "# however, fit in all possible x can give a good snapshot of the benchmark\n",
    "\n",
    "benchmarks = [ [ (0.5*min(x,d)-max(x-d,0),prob) for d,prob in scenario_second_stage ] for x in range(10,19)] \n",
    "# for sake convinence:\n",
    "variables = { 'first_stage':['x'],\n",
    "             'second_stage':['u']\n",
    "           }\n",
    "coefficients = {'x':-1,'u':1.5}\n",
    "random_variables = ['d']"
   ]
  }
 ],
 "metadata": {
  "kernelspec": {
   "display_name": "Python 3 (ipykernel)",
   "language": "python",
   "name": "python3"
  },
  "language_info": {
   "codemirror_mode": {
    "name": "ipython",
    "version": 3
   },
   "file_extension": ".py",
   "mimetype": "text/x-python",
   "name": "python",
   "nbconvert_exporter": "python",
   "pygments_lexer": "ipython3",
   "version": "3.8.13"
  }
 },
 "nbformat": 4,
 "nbformat_minor": 5
}
