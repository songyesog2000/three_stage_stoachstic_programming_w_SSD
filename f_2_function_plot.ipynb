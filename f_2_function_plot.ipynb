{
 "cells": [
  {
   "cell_type": "code",
   "execution_count": null,
   "metadata": {},
   "outputs": [],
   "source": [
    "# dictionary of parameter\n",
    "meta_parameter = {}\n",
    "meta_parameter['number of agents'] = #n\n",
    "meta_parameter['number of resources'] = #K\n",
    "meta_parameter['number of S scenario'] = # S\n",
    "meta_parameter['number of T scenario'] = # T"
   ]
  },
  {
   "cell_type": "code",
   "execution_count": null,
   "metadata": {},
   "outputs": [],
   "source": [
    "# val_t objective value at extended stage\n",
    "# val_s objective value at second stage\n",
    "\n",
    "## you need to modify this regarding your scenario (for conditional probability) and val_s, val_t\n",
    "## as you consider the accumulate sum at extended stage, the bm['r_s'] is set to be zero\n",
    "def generate_bm(meta_parameter,scenario, val_s, val_t, scale = 1):\n",
    "    n = meta_parameter['number of agents']\n",
    "    K = meta_parameter['number of resources']\n",
    "\n",
    "    S = meta_parameter['number of S scenario']\n",
    "    T = meta_parameter['number of T scenario']\n",
    "    bm = {}\n",
    "    for s in range(S):\n",
    "        bm[s] = {}\n",
    "        bm[s]['r_s'] = 0\n",
    "        for t in range(T):\n",
    "            bm[s][t] = {}\n",
    "            bm[s][t]['cond_prob'] =  scenario[s][t]['cond_prob']\n",
    "            bm[s][t]['r_t'] = val_t[s][t] * scale\n",
    "    return bm"
   ]
  },
  {
   "cell_type": "code",
   "execution_count": null,
   "metadata": {},
   "outputs": [],
   "source": [
    "import numpy as np\n",
    "import matplotlib.pyplot as plt\n",
    "def F2_plot(meta_parameter, source , target):\n",
    "    n = meta_parameter['number of agents']\n",
    "    K = meta_parameter['number of resources']\n",
    "\n",
    "    S = meta_parameter['number of S scenario']\n",
    "    T = meta_parameter['number of T scenario']\n",
    "    \n",
    "    \n",
    "    for s in range(S):\n",
    "        prob_res = [source[s][t]['cond_prob'] for t in range(T)]\n",
    "        value_res = [source[s]['r_s'] + source[s][t]['r_t'] for t in range(T)]\n",
    "        sort_id_res = np.argsort(value_res).astype(int)\n",
    "        short_fall_res = [sum(prob_res[tt]*max(0,value_res[t]-value_res[tt]) for tt in range(T)) for t in sort_id_res]\n",
    "        value_res = [value_res[i] for i in sort_id_res]\n",
    "\n",
    "        prob_target = [target[s][t]['cond_prob'] for t in range(T)]\n",
    "        value_target = [target[s]['r_s'] + target[s][t]['r_t'] for t in range(T)]\n",
    "        sort_id_target = np.argsort(value_target).astype(int)\n",
    "        short_fall_target = [sum(prob_res[tt]*max(0,value_target[t]-value_target[tt]) for tt in range(T)) for t in sort_id_target]\n",
    "        value_target = [value_target[i] for i in sort_id_target]\n",
    "        \n",
    "\n",
    "        x_min = min(value_target+value_res) - 0.1\n",
    "        x_max = max(value_res+value_target) + 0.1\n",
    "        print(sort_id_res)\n",
    "        plt.figure()\n",
    "        plt.plot(value_res, short_fall_res, color='tab:blue',label='source') #benchmark\n",
    "        plt.plot(value_target, short_fall_target, color='tab:orange',label='target')\n",
    "        plt.legend()\n"
   ]
  },
  {
   "cell_type": "code",
   "execution_count": null,
   "metadata": {},
   "outputs": [],
   "source": [
    "# example\n",
    "bm_blue_source = generate_bm(meta_parameter,scenario, val_s, val_t, scale = 1)\n",
    "bm_orange_target = generate_bm(meta_parameter,scenario, val_s_ssd, val_t_ssd, scale = 1)\n",
    "F2_plot(meta_parameter,bm_blue_source,bm_orange_target)\n",
    "\n",
    "# figures attached in emails"
   ]
  }
 ],
 "metadata": {
  "kernelspec": {
   "display_name": "Python 3.8.10 64-bit",
   "language": "python",
   "name": "python3"
  },
  "language_info": {
   "name": "python",
   "version": "3.8.10"
  },
  "orig_nbformat": 4,
  "vscode": {
   "interpreter": {
    "hash": "916dbcbb3f70747c44a77c7bcd40155683ae19c65e1c03b4aa3499c5328201f1"
   }
  }
 },
 "nbformat": 4,
 "nbformat_minor": 2
}
