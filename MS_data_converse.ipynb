{
 "cells": [
  {
   "cell_type": "code",
   "execution_count": null,
   "metadata": {},
   "outputs": [],
   "source": [
    "import pickle\n",
    "with open('data', 'rb') as handle:\n",
    "    meta_parameter = pickle.load(handle)\n",
    "    scenario_b = pickle.load(handle)\n",
    "\n",
    "def generate_scenario_from_MS(meta_parameter, scenario_b):\n",
    "    n = meta_parameter['number of agents']\n",
    "    K = meta_parameter['number of resources']\n",
    "\n",
    "    S = meta_parameter['number of S scenario']\n",
    "    T = meta_parameter['number of T scenario']\n",
    "    #S scenarios in second stage, T in extended stage\n",
    "    scenario = []\n",
    "\n",
    "    for i in range(n):\n",
    "        x=[]\n",
    "        for j in range(S):\n",
    "            xS=scenario_b[j]['xi_1'][i]\n",
    "            x1=[]\n",
    "            for k in range(T):\n",
    "                xT= scenario_b[j][k]['xi_2'][i]\n",
    "                x2=[xS,xT,scenario_b[j][k]['prob']]\n",
    "                x1.append(x2)\n",
    "            x.append(x1)\n",
    "        scenario.append(x)\n",
    "    return n,K,S,T,scenario\n",
    "n,K,S,T,scenario = generate_scenario_from_MS(meta_parameter, scenario_b)"
   ]
  },
  {
   "cell_type": "code",
   "execution_count": null,
   "metadata": {},
   "outputs": [],
   "source": []
  },
  {
   "cell_type": "code",
   "execution_count": null,
   "metadata": {},
   "outputs": [],
   "source": [
    "print(x_start)\n",
    "x, val_s, val_t = masterproblem(x_start, meta_parameter, scenario,bm)\n",
    "print(x)\n",
    "print(val_s)"
   ]
  }
 ],
 "metadata": {
  "kernelspec": {
   "display_name": "Python 3.8.10 64-bit",
   "language": "python",
   "name": "python3"
  },
  "language_info": {
   "name": "python",
   "version": "3.8.10"
  },
  "orig_nbformat": 4,
  "vscode": {
   "interpreter": {
    "hash": "916dbcbb3f70747c44a77c7bcd40155683ae19c65e1c03b4aa3499c5328201f1"
   }
  }
 },
 "nbformat": 4,
 "nbformat_minor": 2
}
