{
 "cells": [
  {
   "cell_type": "code",
   "execution_count": 59,
   "id": "9e3a095f",
   "metadata": {},
   "outputs": [],
   "source": [
    "import gurobipy as gp\n",
    "from gurobipy import GRB\n",
    "import numpy as np\n",
    "import random\n",
    "from collections import defaultdict\n",
    "import math as math"
   ]
  },
  {
   "cell_type": "code",
   "execution_count": 2,
   "id": "3314fcf5",
   "metadata": {},
   "outputs": [],
   "source": [
    "def generate_scenario(n, S, T):\n",
    "    #S scenarios in second stage, T in extended stage\n",
    "    scenario = []\n",
    "    pT=np.random.rand(S,T)\n",
    "    pT=pT/sum(sum(pT))\n",
    "    pT=pT.tolist()\n",
    "    for i in range(n):\n",
    "        x=[]\n",
    "        for j in range(S):\n",
    "            xS=random.uniform(0,0.6)\n",
    "            x1=[]\n",
    "            for k in range(T):\n",
    "                xT=random.uniform(0,1)\n",
    "                x2=[xS,xT,pT[j][k]]\n",
    "                x1.append(x2)\n",
    "            x.append(x1)\n",
    "        scenario.append(x)\n",
    "    return scenario \n",
    "    #n*S*T*3 list, each element is [\\xi_2,\\xi_1,p]\n",
    "    #for example, sum(scenario[0][0][:][2]) is probability for S=0. \n",
    "    #             scenario[0][0][0][2]/sum(scenario[0][0][:][2]) is probability for T=0|S=0. \n",
    "    #             scenario[i] is scenario for agent i\n",
    "    \n",
    "    \n",
    "#this part is working fine.\n",
    "scenario = generate_scenario(3,3,3)\n",
    "#scenario, [[scenario[i][0][j][1] for j in range(3)] for i in range(3) ]\n",
    "#scenario, [scenario[i][0][j][2]/sum(scenario[i][0][k][2] for k in range(3)) for j in range(3)]"
   ]
  },
  {
   "cell_type": "code",
   "execution_count": 3,
   "id": "a33482c0",
   "metadata": {},
   "outputs": [
    {
     "data": {
      "text/plain": [
       "[[[[0.30766373505103495, 0.5332444495536139, 0.12951419265147404],\n",
       "   [0.30766373505103495, 0.5743490535179966, 0.30815462817505973],\n",
       "   [0.30766373505103495, 0.4446303145870867, 0.014226077723047945]],\n",
       "  [[0.5941269165861761, 0.2620003643290618, 0.03578365286140128],\n",
       "   [0.5941269165861761, 0.9667883387252189, 0.0023633409561193883],\n",
       "   [0.5941269165861761, 0.36125103097872346, 0.25396828276730404]],\n",
       "  [[0.4488312322911512, 0.4803736667281261, 0.07176071057083945],\n",
       "   [0.4488312322911512, 0.8044145224671704, 0.04930972259682805],\n",
       "   [0.4488312322911512, 0.3043981863579567, 0.13491939169792608]]],\n",
       " [[[0.18531982133510783, 0.17851409440091215, 0.12951419265147404],\n",
       "   [0.18531982133510783, 0.7779548013933828, 0.30815462817505973],\n",
       "   [0.18531982133510783, 0.10704735040148383, 0.014226077723047945]],\n",
       "  [[0.3288189773895119, 0.8391263782257051, 0.03578365286140128],\n",
       "   [0.3288189773895119, 0.5567708252957916, 0.0023633409561193883],\n",
       "   [0.3288189773895119, 0.3446604070215601, 0.25396828276730404]],\n",
       "  [[0.3289150842193795, 0.2452695186545193, 0.07176071057083945],\n",
       "   [0.3289150842193795, 0.1312670031407448, 0.04930972259682805],\n",
       "   [0.3289150842193795, 0.057757118084482695, 0.13491939169792608]]],\n",
       " [[[0.30958334243444613, 0.5744853310219733, 0.12951419265147404],\n",
       "   [0.30958334243444613, 0.8978094640532268, 0.30815462817505973],\n",
       "   [0.30958334243444613, 0.8489194316551193, 0.014226077723047945]],\n",
       "  [[0.1323383384516858, 0.6117107067187955, 0.03578365286140128],\n",
       "   [0.1323383384516858, 0.6062557751423683, 0.0023633409561193883],\n",
       "   [0.1323383384516858, 0.08314272245374521, 0.25396828276730404]],\n",
       "  [[0.4994860363507665, 0.8086643415734165, 0.07176071057083945],\n",
       "   [0.4994860363507665, 0.7970606672815236, 0.04930972259682805],\n",
       "   [0.4994860363507665, 0.016927387304578212, 0.13491939169792608]]]]"
      ]
     },
     "execution_count": 3,
     "metadata": {},
     "output_type": "execute_result"
    }
   ],
   "source": [
    "#scn = [ sum(sum((scenario[i][s][t][0] + (1-scenario[i][s][t][0])*scenario[i][s][t][1])*scenario[i][s][t][2]/sum(scenario[i][s][t][2] for t in range(3)) for t in range(3)) for i in range(3)) for s in range(3)]\n",
    "#scn = [ [sum(scenario[i][s][t][0] + (1-scenario[i][s][t][0])*scenario[i][s][t][1] for i in range(3)) for t in range(3)] for s in range(3)]\n",
    "scenario\n",
    "#scn, [sum(scenario[0][s][t][2] for t in range(3)) for s in range(3)]\n",
    "#scenario[1][0][0][0]+(1-scenario[1][0][0][0])*scenario[1][0][0][1]"
   ]
  },
  {
   "cell_type": "code",
   "execution_count": 4,
   "id": "ccddbdae",
   "metadata": {},
   "outputs": [],
   "source": [
    "def evaluation(x, alpha):\n",
    "    if (x<=alpha/2):\n",
    "        return 4*((x/alpha) - (x/alpha)**2)\n",
    "    else:\n",
    "        return 1\n",
    "\n",
    "#evaluation function f(x) = min(1, g(x))\n",
    "#g(x) = (4/alpha^2)*(alpha*x - x^2), alpha = K/(n-1)"
   ]
  },
  {
   "cell_type": "markdown",
   "id": "e33be53f",
   "metadata": {},
   "source": [
    "Solve for benchmark without order constraint"
   ]
  },
  {
   "cell_type": "code",
   "execution_count": 5,
   "id": "8a81938d",
   "metadata": {},
   "outputs": [],
   "source": [
    "def subproblem_b(x, s, scenario, K, output_yz):\n",
    "    \n",
    "    #x is a 1*n vector, decision variable for 1st stage\n",
    "    #s is the s_st scenario we currently want to solve\n",
    "    #scenario is the S*T*3 matrix we generated before\n",
    "    #K is total resources allowed that decides evaluation function\n",
    "    \n",
    "    #if output_yz==1, then return y. if ==2, return z. used for construct benchmark variable\n",
    "    \n",
    "    n=len(x)\n",
    "    T=len(scenario[0][0])\n",
    "    alpha=2*K\n",
    "    \n",
    "    sp = gp.Model(\"subproblem\")\n",
    "    \n",
    "    #w = sp.addVars(n,   vtype=GRB.CONTINUOUS, name=\"w\", lb=list(np.zeros(n)))\n",
    "    w = [evaluation(scenario[i][s][0][0]*x[i], alpha) for i in range(n)]\n",
    "    \n",
    "    z = sp.addVars(n,n, vtype=GRB.CONTINUOUS, name=\"z\", lb=list(np.zeros((n,n)))) #reallocate\n",
    "    y = sp.addVars(n,   vtype=GRB.CONTINUOUS, name=\"y\", lb=list(np.zeros(n))) #new resources\n",
    "    \n",
    "    scenario_extended = [[scenario[i][s][j][1]*(1-scenario[i][s][j][0]) for j in range(T)]  for i in range(n)]\n",
    "    #n*T list, [i,j] is r_i(\\xi^{s,j})\n",
    "    prob_extended_list = [scenario[0][s][j][2]/sum(scenario[0][s][k][2] for k in range(T)) for j in range(T)]\n",
    "    prob_extended = dict([(t,prob_extended_list[t]) for t in range(T)])\n",
    "    #conditional probability of extended stage, conditioned by scenario s at second stage\n",
    "\n",
    "    extended_obj     = sp.addVars(n,T,vtype=GRB.CONTINUOUS, name=\"extended_obj\", lb=list(np.zeros((n,T))))\n",
    "    extended_obj_sum = sp.addVars(T,vtype=GRB.CONTINUOUS, name=\"extended_obj_sum\")\n",
    "    extended_obj_exp = sp.addVar(vtype=GRB.CONTINUOUS, name=\"extended_obj_exp\")\n",
    "\n",
    "    reallo_cost = 0.01\n",
    "\n",
    "    sp.setObjective( sum(w) - reallo_cost*z.sum() + extended_obj_exp, GRB.MAXIMIZE)\n",
    "\n",
    "    reallocate = sp.addConstrs( (y[i] == ((1-scenario[i][s][0][0])*x[i] + z.sum('*',i)-z.sum(i,'*')) for i in range(n)), name = 'reallocate')\n",
    "    \n",
    "    extended_ub_evaluation = sp.addConstrs( (extended_obj[i,t] <= 4 * ((scenario_extended[i][t]*y[i]/alpha) - (scenario_extended[i][t]*scenario_extended[i][t]*y[i]*y[i]/(alpha*alpha))) for i in range(n) for t in range(T)), name = 'extended_ub_evaluation' )\n",
    "    extended_sum = sp.addConstrs( (extended_obj_sum[t] == extended_obj.sum('*',t) for t in range(T)), name = 'extended_sum')\n",
    "    extended_exp = sp.addConstr( (extended_obj_exp == extended_obj_sum.prod(prob_extended)), name = 'extended_exp')\n",
    "\n",
    "    sp.setParam('OutputFlag', 0)\n",
    "    sp.setParam('QCPDual', 1)\n",
    "    \n",
    "    sp.optimize()\n",
    "    \n",
    "    if sp.status == GRB.OPTIMAL:\n",
    "        \n",
    "        feas = 1\n",
    "        \n",
    "        cut_val = sp.ObjVal\n",
    "        \n",
    "        lmbd = [reallocate[i].Pi for i in range(n)]\n",
    "        \n",
    "        cut_subdiff = [lmbd[i]*(1-scenario[i][s][0][0]) + 4*(1-2*(scenario[i][s][0][0]/alpha)*x[i])*(scenario[i][s][0][0]/alpha) for i in range(n)]\n",
    "       \n",
    "        if output_yz==0:\n",
    "            return cut_val, cut_subdiff, feas\n",
    "        elif output_yz==1:\n",
    "            return [y[i].x for i in range(n)]\n",
    "        elif output_yz==2:\n",
    "            return [[z[i,j].x for i in range(n)] for j in range(n)]\n",
    "    \n",
    "    else:    \n",
    "        print(\"infeasible\", sp.status)"
   ]
  },
  {
   "cell_type": "code",
   "execution_count": 6,
   "id": "1607a142",
   "metadata": {},
   "outputs": [],
   "source": [
    "def masterproblem_b(x_start, n, K, scenario):\n",
    "    \n",
    "    max_it = 1e4\n",
    "    S = len(scenario[0])\n",
    "    T = len(scenario[0][0])\n",
    "    prob_s = [sum(scenario[0][s][t][2] for t in range(T)) for s in range(S)]\n",
    "    \n",
    "    prob_s_dict = dict([(s, prob_s[s]) for s in range(S)])\n",
    "    \n",
    "    mp = gp.Model(\"masterproblem\")\n",
    "    \n",
    "    x = mp.addVars(n,   vtype=GRB.CONTINUOUS, name=\"x\", lb=list(np.zeros(n)))\n",
    "    v = mp.addVars(S,   vtype=GRB.CONTINUOUS, name=\"v\")\n",
    "    \n",
    "    mp.setObjective(v.prod(prob_s_dict), GRB.MAXIMIZE)\n",
    "    \n",
    "    mp.addConstr( x.sum() <= K )\n",
    "    \n",
    "    mp.setParam('OutputFlag', 0)\n",
    "    \n",
    "    it = 0 #iteration\n",
    "    \n",
    "    x_current_iter = x_start #n*1 vector\n",
    "    \n",
    "    while (it<max_it):\n",
    "        \n",
    "        stop_crit = 0\n",
    "        optm_sec_stage = list(np.zeros(S))\n",
    "        \n",
    "        for s in range(S):\n",
    "        \n",
    "            (val, subdiff, feas) = subproblem_b(x_current_iter, s, scenario, K, 0)\n",
    "        \n",
    "            if feas==1:\n",
    "                subdiff = dict([(i,subdiff[i]) for i in range(n)])\n",
    "                mp.addConstr( v[s] <= val + x.prod(subdiff) - sum(subdiff[i]*x_current_iter[i] for i in range(n)) )\n",
    "                \n",
    "                optm_sec_stage[s] = val\n",
    "        \n",
    "        mp.optimize()\n",
    "        \n",
    "        for i in range(n):\n",
    "            x_current_iter[i] = x[i].x\n",
    "        \n",
    "        for s in range(S):\n",
    "            stop_crit += abs(optm_sec_stage[s]-v[s].X)\n",
    "        \n",
    "        if ( stop_crit < 1e-5 ):\n",
    "            break;\n",
    "            \n",
    "        it = it + 1\n",
    "    \n",
    "    return [v[s].x for s in range(S)], [x[i].x for i in range(n)]\n",
    "        "
   ]
  },
  {
   "cell_type": "code",
   "execution_count": 8,
   "id": "a024b4d3",
   "metadata": {},
   "outputs": [],
   "source": [
    "n = 3; #number of agents\n",
    "K = 5; #maximum resources stored\n",
    "S = 3;\n",
    "T = 3;\n",
    "alpha = 2*K;\n",
    "reallo_cost=0.01\n",
    "(v_rn,x_rn) = masterproblem_b([1,1,1], n, K, scenario)\n",
    "y_rn = [subproblem_b(x_rn, s, scenario, K, 1) for s in range(S)]\n",
    "z_rn = [subproblem_b(x_rn, s, scenario, K, 2) for s in range(S)]\n",
    "w_rn = [ [sum(evaluation(x_rn[i]*scenario[i][s][0][0], alpha) for i in range(n))-reallo_cost*sum([sum(z_rn[s][i]) for i in range(n)])+sum(evaluation(y_rn[s][i]*scenario[i][s][t][1]*(1-scenario[i][s][0][0]), alpha) for i in range(n)) for t in range(T)] for s in range(S)]\n",
    "#w_rn is a S*T matrix\n",
    "\n",
    "#so benchmark at second stage scenario s is w_rn[s], with p=scenario[0][0][t][2]/sum(scenairo[0][0][t][2] for t in range(T))\n",
    "#bench mark at first stage is v_rn"
   ]
  },
  {
   "cell_type": "code",
   "execution_count": 11,
   "id": "3c418b5d",
   "metadata": {
    "scrolled": true
   },
   "outputs": [
    {
     "data": {
      "text/plain": [
       "([[0.9273152526754274, 1.2962538594233313, 1.0328269986041545],\n",
       "  [1.2552769792900447, 1.0990619367773784, 0.9669973386895645],\n",
       "  [1.0893743745117388, 1.2296126959807658, 0.9442674356301888]],\n",
       " [1.182222319651281, 1.0033805126454112, 1.0399096711474431],\n",
       " [3.0581167088015366, 0.6921396979504538, 1.2497435932480094])"
      ]
     },
     "execution_count": 11,
     "metadata": {},
     "output_type": "execute_result"
    }
   ],
   "source": [
    "w_rn, v_rn, x_rn"
   ]
  },
  {
   "cell_type": "markdown",
   "id": "aecda2dd",
   "metadata": {},
   "source": [
    "if using a simple benchmark"
   ]
  },
  {
   "cell_type": "code",
   "execution_count": 12,
   "id": "d4e39fc2",
   "metadata": {},
   "outputs": [],
   "source": [
    "w_bm = [[1, 1, 1],\n",
    "        [1, 1, 1],\n",
    "        [1, 1, 1]]\n",
    "v_bm = [sum(w_bm[s][t]*scenario[0][s][t][2] for t in range(T))/sum(scenario[0][s][t][2] for t in range(T)) for s in range(S)]"
   ]
  },
  {
   "cell_type": "markdown",
   "id": "6c9017b6",
   "metadata": {},
   "source": [
    "Solving the problem with stochastic dominant constraints"
   ]
  },
  {
   "cell_type": "code",
   "execution_count": 183,
   "id": "7a53f96b",
   "metadata": {},
   "outputs": [],
   "source": [
    "def subproblem(x, s, scenario, K, w_bm):\n",
    "    \n",
    "    n=len(x)\n",
    "    T=len(scenario[0][0])\n",
    "    alpha=2*K\n",
    "    reallo_cost = 0.01\n",
    "    \n",
    "    sp = gp.Model(\"subproblem\")\n",
    "    \n",
    "    w = [evaluation(scenario[i][s][0][0]*x[i], alpha) for i in range(n)]\n",
    "    \n",
    "    z = sp.addVars(n,n, vtype=GRB.CONTINUOUS, name=\"z\", lb=list(np.zeros((n,n)))) #reallocate\n",
    "    y = sp.addVars(n,   vtype=GRB.CONTINUOUS, name=\"y\", lb=list(np.zeros(n))) #new resources\n",
    "    \n",
    "    shift = sp.addVar(vtype=GRB.CONTINUOUS, name=\"shift\", lb=-GRB.INFINITY)\n",
    "    \n",
    "    obj_determined = sp.addVar(vtype=GRB.CONTINUOUS, name=\"obj_determined\", lb=-GRB.INFINITY)\n",
    "    obj_det = sp.addConstr( obj_determined == sum(w) - reallo_cost*z.sum(), name='obj_det' )\n",
    "    \n",
    "    scenario_extended = [[scenario[i][s][j][1]*(1-scenario[i][s][j][0]) for j in range(T)]  for i in range(n)]\n",
    "    #n*T list, [i,j] is r_i(\\xi^{s,j})\n",
    "    prob_extended_list = [scenario[0][s][j][2]/sum(scenario[0][s][k][2] for k in range(T)) for j in range(T)]\n",
    "    prob_extended = dict([(t,prob_extended_list[t]) for t in range(T)])\n",
    "    #conditional probability of extended stage, conditioned by scenario s at second stage\n",
    "\n",
    "    extended_obj     = sp.addVars(n,T,vtype=GRB.CONTINUOUS, name=\"extended_obj\", lb=list(np.zeros((n,T))))\n",
    "    extended_obj_sum = sp.addVars(T,vtype=GRB.CONTINUOUS, name=\"extended_obj_sum\")\n",
    "    extended_obj_exp = sp.addVar(vtype=GRB.CONTINUOUS, name=\"extended_obj_exp\")\n",
    "\n",
    "    sp.setObjective( obj_determined + extended_obj_exp - 1 * shift, GRB.MAXIMIZE)\n",
    "\n",
    "    reallocate = sp.addConstrs( (y[i] == ((1-scenario[i][s][0][0])*x[i] + z.sum('*',i)-z.sum(i,'*')) for i in range(n)), name = 'reallocate')\n",
    "\n",
    "    extended_ub_evaluation = sp.addConstrs( (extended_obj[i,t] <= 4 * ((scenario_extended[i][t]*y[i]/alpha) - (scenario_extended[i][t]*scenario_extended[i][t]*y[i]*y[i]/(alpha*alpha))) for i in range(n) for t in range(T)), name = 'extended_ub_evaluation' )\n",
    "    extended_sum = sp.addConstrs( (extended_obj_sum[t] == extended_obj.sum('*',t) for t in range(T)), name = 'extended_sum')\n",
    "    extended_exp = sp.addConstr( (extended_obj_exp == extended_obj_sum.prod(prob_extended)), name = 'extended_exp')\n",
    "\n",
    "    sp.setParam('OutputFlag', 0)\n",
    "    sp.setParam('QCPDual', 1)\n",
    "    sp.setParam('BarQCPConvTol', 1e-7)\n",
    "    \n",
    "    #############################\n",
    "    # event cut for second stage\n",
    "    \n",
    "    #shortfall (eta-X)+, eta takes benchmark's value in T scenarios\n",
    "    #shtf(t1, t2) = (eta_t1 - X_t2)+\n",
    "    #We shift benchmark w_bm to w_bm-shift\n",
    "    shtf = sp.addVars(T, T, vtype=GRB.CONTINUOUS, name=\"shtf\", lb=list(np.zeros((T,T))))\n",
    "    shtf_def = sp.addConstrs( (shtf[t, tt] >= w_bm[t] - shift - obj_determined - extended_obj_sum[tt] for t in range(T) for tt in range(T)), name = 'shtf_def')\n",
    "    \n",
    "    #Write order constraint as T ineq constr: E[(eta-X)+]<=E[(eta-Y)+], for eta=Y(\\omega_1), ...\n",
    "    \n",
    "    #expected shortfall of benchmark: E[(eta_t - Y)+]\n",
    "    exp_shtf_bm = [sum(prob_extended_list[tt] * max(0,w_bm[t]-w_bm[tt]) for tt in range(T)) for t in range(T)]\n",
    "    \n",
    "    prob_extended_edit = dict( [((t,tt),prob_extended_list[tt]) for tt in range(T) for t in range(T)] )\n",
    "    \n",
    "    ord_constr = sp.addConstrs( (shtf.prod(prob_extended_edit, t, '*') <= exp_shtf_bm[t] for t in range(T)), name = 'ord_constr' )\n",
    "    \n",
    "    sp.optimize()\n",
    "    \n",
    "    \n",
    "    if sp.status == GRB.OPTIMAL:\n",
    "        \n",
    "        feas = 1\n",
    "        \n",
    "        cut_val = sp.ObjVal + 1 * shift.x\n",
    "        \n",
    "        lmbd = [reallocate[i].Pi for i in range(n)]\n",
    "        \n",
    "        cut_subdiff = [lmbd[i]*(1-scenario[i][s][0][0]) + 4 * (1-2*(scenario[i][s][0][0]/alpha)*x[i])*(scenario[i][s][0][0]/alpha) for i in range(n)]\n",
    "        \n",
    "        obj_RV = [obj_determined.x + extended_obj_sum[t].x for t in range(T)]\n",
    "        \n",
    "    elif (sp.status == GRB.INFEASIBLE) or (sp.status == GRB.INF_OR_UNBD):\n",
    "    \n",
    "        feas = 0\n",
    "        \n",
    "        sp.remove(reallocate)\n",
    "        \n",
    "        u = sp.addVars(n, vtype=GRB.CONTINUOUS, name=\"u\", lb = -GRB.INFINITY)\n",
    "        u_abs = sp.addVars(n, vtype=GRB.CONTINUOUS, name=\"u_abs\")\n",
    "        \n",
    "        reallocate_again = sp.addConstrs( (u[i] + y[i] == ((1-scenario[i][s][0][0])*x[i] + z.sum('*',i)-z.sum(i,'*')) for i in range(n)), name = 'reallocate_again')\n",
    "        \n",
    "        #L1norm\n",
    "        abs_of_u = sp.addConstrs( (u[i] <= u_abs[i] for i in range(n)) , name = 'abs_of_u')\n",
    "        abs_of_u_ = sp.addConstrs( (-u[i] <= u_abs[i] for i in range(n)) , name = 'abs_of_u_')\n",
    "        \n",
    "        sp.setObjective(u_abs.sum(), GRB.MINIMIZE)\n",
    "        \n",
    "        sp.optimize()\n",
    "\n",
    "        cut_val = sp.ObjVal\n",
    "        \n",
    "        lmbd = [reallocate_again[i].Pi for i in range(n)]\n",
    "        \n",
    "        cut_subdiff = [lmbd[i]*(1-scenario[i][s][0][0]) + 4 * (1-2*(scenario[i][s][0][0]/alpha)*x[i])*(scenario[i][s][0][0]/alpha) for i in range(n)]    \n",
    "        \n",
    "        obj_RV = -1e5\n",
    "        \n",
    "    return cut_val, cut_subdiff, feas, obj_RV, shift.x"
   ]
  },
  {
   "cell_type": "code",
   "execution_count": 184,
   "id": "ace02d9d",
   "metadata": {},
   "outputs": [],
   "source": [
    "def masterproblem(x_start, n, K, scenario, w_bm, v_bm):\n",
    "    \n",
    "    max_it = 1e2\n",
    "    S = len(scenario[0])\n",
    "    T = len(scenario[0][0])\n",
    "    prob_s = [sum(scenario[0][s][t][2] for t in range(T)) for s in range(S)]\n",
    "    \n",
    "    prob_s_dict = dict([(s, prob_s[s]) for s in range(S)])\n",
    "    \n",
    "    mp=gp.Model(\"masterproblem\")\n",
    "    \n",
    "    x = mp.addVars(n, vtype=GRB.CONTINUOUS, name=\"x\", lb=list(np.zeros(n)))\n",
    "    v = mp.addVars(S, vtype=GRB.CONTINUOUS, name=\"v\", lb=-GRB.INFINITY)\n",
    "    v_exp = mp.addVar(vtype=GRB.CONTINUOUS, name=\"v_exp\", lb=-GRB.INFINITY)\n",
    "    \n",
    "    mp.addConstr(v.prod(prob_s_dict)==v_exp)\n",
    "    \n",
    "    mp.setObjective(v_exp, GRB.MAXIMIZE)\n",
    "    \n",
    "    mp.addConstr( x.sum() <= K )\n",
    "    \n",
    "    mp.setParam('OutputFlag', 0)\n",
    "    \n",
    "    it = 0 #iteration\n",
    "    \n",
    "    x_current_iter = x_start #n*1 vector\n",
    "    \n",
    "    shtf = mp.addVars(S, vtype=GRB.CONTINUOUS, name=\"shtf\", lb=list(np.zeros(S)))\n",
    "    \n",
    "    s_0 = 0\n",
    "    \n",
    "    \n",
    "    while (it<max_it) and (s_0 < S):\n",
    "    \n",
    "        print(\"\\n starting iterarion:\", it, \"\\n\")\n",
    "        \n",
    "        stop_crit = 0\n",
    "        optm_sec_stage = list(np.zeros(S))\n",
    "        \n",
    "        feas_sec_stage = True\n",
    "        \n",
    "        #obj cut & feas cut\n",
    "        for s in range(S):\n",
    "        \n",
    "            (val, subdiff, feas, _, _) = subproblem(x_current_iter, s, scenario, K, w_bm[s])\n",
    "        \n",
    "            if feas==1:\n",
    "                subdiff_dict = dict([(i,subdiff[i]) for i in range(n)])\n",
    "                mp.addConstr( v[s] <= val + x.prod(subdiff_dict) - sum(subdiff[i]*x_current_iter[i] for i in range(n)) )\n",
    "                \n",
    "                optm_sec_stage[s] = val\n",
    "                print(\"\\n add a objective cut for scenario\", s, \"\\n\")\n",
    "                \n",
    "            elif feas==0:\n",
    "                subdiff_dict = dict([(i,subdiff[i]) for i in range(n)])\n",
    "                mp.addConstr( val + x.prod(subdiff_dict) - sum(subdiff[i]*x_current_iter[i] for i in range(n)) <= 0 )\n",
    "                \n",
    "                feas_sec_stage = False\n",
    "                optm_sec_stage[s] = -math.inf\n",
    "                print(\"\\n add a feasbility cut for scenario\", s, \"\\n\")\n",
    "        \n",
    "\n",
    "        mp.optimize()\n",
    "        \n",
    "        if mp.status == GRB.OPTIMAL:\n",
    "            print(\"master problem optimized\")\n",
    "        else:\n",
    "            print(\"master problem infeasible\")\n",
    "        \n",
    "        x_current_iter = [x[i].x for i in range(n)]\n",
    "        \n",
    "        #print(x_current_iter)\n",
    "        \n",
    "        if feas_sec_stage == False:\n",
    "            it = it + 1\n",
    "            continue;\n",
    "        \n",
    "        #print(v, optm_sec_stage)\n",
    "        \n",
    "        for s in range(S):\n",
    "            stop_crit += prob_s[s]*(optm_sec_stage[s]-v[s].x)\n",
    "        \n",
    "        #print(stop_crit)\n",
    "        if ( abs(stop_crit) < 1e-2 ):\n",
    "            break;    \n",
    "            \n",
    "        it = it + 1\n",
    "        \n",
    "    w_ssd = (np.ones((3,3))).tolist()\n",
    "    shift_output = np.ones(3).tolist()\n",
    "    for s in range(S):\n",
    "        (_, _, _, w_ssd[s], shift_output[s]) = subproblem(x_current_iter, s, scenario, K, w_bm[s])\n",
    "    \n",
    "\n",
    "    return [v[s].x for s in range(S)], w_ssd, shift_output, [x[i].x for i in range(n)]\n",
    "        "
   ]
  },
  {
   "cell_type": "code",
   "execution_count": 185,
   "id": "8d4238e7",
   "metadata": {},
   "outputs": [
    {
     "name": "stdout",
     "output_type": "stream",
     "text": [
      "\n",
      " starting iterarion: 0 \n",
      "\n",
      "\n",
      " add a objective cut for scenario 0 \n",
      "\n",
      "\n",
      " add a objective cut for scenario 1 \n",
      "\n",
      "\n",
      " add a objective cut for scenario 2 \n",
      "\n",
      "master problem optimized\n",
      "\n",
      " starting iterarion: 1 \n",
      "\n",
      "\n",
      " add a objective cut for scenario 0 \n",
      "\n",
      "\n",
      " add a objective cut for scenario 1 \n",
      "\n",
      "\n",
      " add a objective cut for scenario 2 \n",
      "\n",
      "master problem optimized\n",
      "\n",
      " starting iterarion: 2 \n",
      "\n",
      "\n",
      " add a objective cut for scenario 0 \n",
      "\n",
      "\n",
      " add a objective cut for scenario 1 \n",
      "\n",
      "\n",
      " add a objective cut for scenario 2 \n",
      "\n",
      "master problem optimized\n",
      "\n",
      " starting iterarion: 3 \n",
      "\n",
      "\n",
      " add a objective cut for scenario 0 \n",
      "\n",
      "\n",
      " add a objective cut for scenario 1 \n",
      "\n",
      "\n",
      " add a objective cut for scenario 2 \n",
      "\n",
      "master problem optimized\n",
      "\n",
      " starting iterarion: 4 \n",
      "\n",
      "\n",
      " add a objective cut for scenario 0 \n",
      "\n",
      "\n",
      " add a objective cut for scenario 1 \n",
      "\n",
      "\n",
      " add a objective cut for scenario 2 \n",
      "\n",
      "master problem optimized\n"
     ]
    }
   ],
   "source": [
    "n = 3; #number of agents\n",
    "K = 5; #maximum resources stored\n",
    "S = 3;\n",
    "T = 3;\n",
    "(v_ssd, w_ssd, shift, x_ssd) = masterproblem([0,2.7,2.3], n, K, scenario, w_rn, v_rn)"
   ]
  },
  {
   "cell_type": "code",
   "execution_count": 186,
   "id": "09e45046",
   "metadata": {},
   "outputs": [
    {
     "data": {
      "text/plain": [
       "([[0.9267832835578301, 1.295682241805741, 1.031902379765389],\n",
       "  [1.2509991542276335, 1.0863177162680246, 0.9451859615213856],\n",
       "  [1.0854993189386846, 1.230061984292894, 0.9405218042730683]],\n",
       " [[0.9273152526754274, 1.2962538594233313, 1.0328269986041545],\n",
       "  [1.2552769792900447, 1.0990619367773784, 0.9669973386895645],\n",
       "  [1.0893743745117388, 1.2296126959807658, 0.9442674356301888]],\n",
       " [0.0005713861013129563, 0.021811399770336814, 0.0037905894652438777])"
      ]
     },
     "execution_count": 186,
     "metadata": {},
     "output_type": "execute_result"
    }
   ],
   "source": [
    "#sum((v_ssd[s]-v_bm[s])*sum(scenario[0][s][t][2] for t in range(T)) for s in range(S))\n",
    "#x_ssd, x_rn\n",
    "#v_ssd, v_bm,\n",
    "w_ssd, w_rn, shift"
   ]
  },
  {
   "cell_type": "code",
   "execution_count": 405,
   "id": "f92f1d09",
   "metadata": {},
   "outputs": [
    {
     "data": {
      "text/plain": [
       "[<matplotlib.lines.Line2D at 0x7faff07fe7c0>]"
      ]
     },
     "execution_count": 405,
     "metadata": {},
     "output_type": "execute_result"
    },
    {
     "data": {
      "image/png": "[encoded data removed]",
      "text/plain": [
       "<Figure size 432x288 with 1 Axes>"
      ]
     },
     "metadata": {
      "needs_background": "light"
     },
     "output_type": "display_data"
    }
   ],
   "source": [
    "#F^{(2)} at first stage\n",
    "import numpy as np\n",
    "import matplotlib.pyplot as plt\n",
    "\n",
    "prob_first_stage = [sum(scenario[0][s][t][2] for t in range(T)) for s in range(S)]\n",
    "\n",
    "v_bm_p = [[v_bm[s], prob_first_stage[s]] for s in range(S)]\n",
    "v_bm_p.sort()\n",
    "\n",
    "v_ssd_p = [[v_ssd[s], prob_first_stage[s]] for s in range(S)]\n",
    "v_ssd_p.sort()\n",
    "\n",
    "x_min = min(min([v_bm,v_ssd])) - 0.1\n",
    "x_max = max(max([v_bm,v_ssd])) + 0.1\n",
    "x_axis = np.linspace(x_min,x_max,50)\n",
    "\n",
    "y_axis_bm = [sum(v_bm_p[s][1]*max(0,(x-v_bm_p[s][0])) for s in range(S)) for x in x_axis]\n",
    "\n",
    "y_axis_ssd = [sum(v_ssd_p[s][1]*max(0,(x-v_ssd_p[s][0])) for s in range(S)) for x in x_axis]\n",
    "\n",
    "plt.figure()\n",
    "plt.plot(x_axis, y_axis_bm, color='tab:blue') #benchmark\n",
    "plt.plot(x_axis, y_axis_ssd, color='tab:orange')"
   ]
  },
  {
   "cell_type": "code",
   "execution_count": 30,
   "id": "d16f17e7",
   "metadata": {},
   "outputs": [
    {
     "data": {
      "text/plain": [
       "([0.72, 0.72, 0.72],\n",
       " [0.7533917736278078, 0.7311509345550185, 0.72],\n",
       " [5.0, 0.0, 0.0],\n",
       " [4.099196689941724, 0.0, 0.9008033100582757])"
      ]
     },
     "execution_count": 30,
     "metadata": {},
     "output_type": "execute_result"
    }
   ],
   "source": [
    "v_bm,v_ssd, x_bm, x_ssd"
   ]
  },
  {
   "cell_type": "code",
   "execution_count": 43,
   "id": "1b103676",
   "metadata": {},
   "outputs": [],
   "source": [
    "#m = gp.Model(\"m\")\n",
    "#x = m.addVar(vtype=GRB.CONTINUOUS, name=\"x\", lb=0)\n",
    "#y = m.addVar(vtype=GRB.CONTINUOUS, name=\"y\", lb=0)\n",
    "#m.setObjective(x-y, GRB.MINIMIZE)\n",
    "#m.addConstr((x==1)>>(y-2*x<=0), name = \"quad\")\n",
    "#m.addConstr((x==0)>>(y+x==0), name = \"constant\")\n",
    "#m.optimize()"
   ]
  },
  {
   "cell_type": "code",
   "execution_count": 648,
   "id": "06a14a70",
   "metadata": {},
   "outputs": [
    {
     "data": {
      "text/plain": [
       "[2.4000000000000004, 3.2, 4.0]"
      ]
     },
     "execution_count": 648,
     "metadata": {},
     "output_type": "execute_result"
    }
   ],
   "source": [
    "a=[3+i for i in range(3)]\n",
    "[a[i]*0.8 for i in range(len(a))]"
   ]
  },
  {
   "cell_type": "code",
   "execution_count": 137,
   "id": "69d727c0",
   "metadata": {},
   "outputs": [
    {
     "data": {
      "text/plain": [
       "2"
      ]
     },
     "execution_count": 137,
     "metadata": {},
     "output_type": "execute_result"
    }
   ],
   "source": [
    "def func(x):\n",
    "    return x, x**2\n",
    "\n",
    "(a,_) = func(2)\n",
    "a"
   ]
  },
  {
   "cell_type": "code",
   "execution_count": 113,
   "id": "6f1ee8c0",
   "metadata": {},
   "outputs": [
    {
     "data": {
      "text/plain": [
       "[1.0, 1.0, 1.0]"
      ]
     },
     "execution_count": 113,
     "metadata": {},
     "output_type": "execute_result"
    }
   ],
   "source": [
    "ab = (np.ones(3)).tolist()\n",
    "#ab = ab.tolist()\n",
    "ab"
   ]
  },
  {
   "cell_type": "code",
   "execution_count": 191,
   "id": "946cc8be",
   "metadata": {},
   "outputs": [
    {
     "name": "stdout",
     "output_type": "stream",
     "text": [
      "0\n",
      "1\n",
      "2\n"
     ]
    }
   ],
   "source": [
    "for i in range(0,3):\n",
    "    print(i)"
   ]
  },
  {
   "cell_type": "code",
   "execution_count": null,
   "id": "3ca8c122",
   "metadata": {},
   "outputs": [],
   "source": []
  },
  {
   "cell_type": "code",
   "execution_count": null,
   "id": "6c5a0c47",
   "metadata": {},
   "outputs": [],
   "source": []
  }
 ],
 "metadata": {
  "kernelspec": {
   "display_name": "Python 3.8.10 64-bit",
   "language": "python",
   "name": "python3"
  },
  "language_info": {
   "codemirror_mode": {
    "name": "ipython",
    "version": 3
   },
   "file_extension": ".py",
   "mimetype": "text/x-python",
   "name": "python",
   "nbconvert_exporter": "python",
   "pygments_lexer": "ipython3",
   "version": "3.8.10"
  },
  "vscode": {
   "interpreter": {
    "hash": "916dbcbb3f70747c44a77c7bcd40155683ae19c65e1c03b4aa3499c5328201f1"
   }
  }
 },
 "nbformat": 4,
 "nbformat_minor": 5
}
